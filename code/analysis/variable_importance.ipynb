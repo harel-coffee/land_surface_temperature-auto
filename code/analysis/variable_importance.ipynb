{
 "cells": [
  {
   "cell_type": "code",
   "execution_count": 1,
   "metadata": {
    "scrolled": true
   },
   "outputs": [],
   "source": [
    "import os \n",
    "dir_primary = 'F:/UrbanDataProject/land_surface_temperature/code/analysis'\n",
    "# os.chdir('/home/tml/research/land_surface_temperature/code/analysis')\n",
    "os.chdir(dir_primary)\n",
    "from analysis import *\n",
    "%matplotlib inline\n",
    "import matplotlib as mpl\n",
    "import matplotlib.pyplot as plt\n",
    "import os\n",
    "import glob\n",
    "code_dir = os.getcwd()\n",
    "os.chdir('../..')\n"
   ]
  },
  {
   "cell_type": "markdown",
   "metadata": {},
   "source": [
    "# Import data"
   ]
  },
  {
   "cell_type": "code",
   "execution_count": 2,
   "metadata": {
    "scrolled": true
   },
   "outputs": [],
   "source": [
    "cities = ['bal', 'por', 'det', 'phx']\n",
    "# import data\n",
    "grid_size = 500\n",
    "df = import_data(grid_size)"
   ]
  },
  {
   "cell_type": "markdown",
   "metadata": {},
   "source": [
    "# Variable importance"
   ]
  },
  {
   "cell_type": "code",
   "execution_count": 4,
   "metadata": {
    "scrolled": false
   },
   "outputs": [
    {
     "name": "stdout",
     "output_type": "stream",
     "text": [
      "lst_day_mean\n"
     ]
    },
    {
     "name": "stderr",
     "output_type": "stream",
     "text": [
      "f:\\urbandataproject\\land_surface_temperature\\venv\\lib\\site-packages\\pyearth\\earth.py:802: FutureWarning: `rcond` parameter will change to the default of machine precision times ``max(M, N)`` where M and N are the input matrix dimensions.\n",
      "To use the future default and silence this warning we advise to pass `rcond=None`, to keep using the old, explicitly pass `rcond=-1`.\n",
      "  pruning_passer.run()\n",
      "f:\\urbandataproject\\land_surface_temperature\\venv\\lib\\site-packages\\pyearth\\earth.py:1055: FutureWarning: `rcond` parameter will change to the default of machine precision times ``max(M, N)`` where M and N are the input matrix dimensions.\n",
      "To use the future default and silence this warning we advise to pass `rcond=None`, to keep using the old, explicitly pass `rcond=-1`.\n",
      "  coef, resid = np.linalg.lstsq(B, weighted_y[:, i])[0:2]\n"
     ]
    },
    {
     "name": "stdout",
     "output_type": "stream",
     "text": [
      "lst_night_mean\n"
     ]
    },
    {
     "name": "stderr",
     "output_type": "stream",
     "text": [
      "f:\\urbandataproject\\land_surface_temperature\\venv\\lib\\site-packages\\pyearth\\earth.py:802: FutureWarning: `rcond` parameter will change to the default of machine precision times ``max(M, N)`` where M and N are the input matrix dimensions.\n",
      "To use the future default and silence this warning we advise to pass `rcond=None`, to keep using the old, explicitly pass `rcond=-1`.\n",
      "  pruning_passer.run()\n",
      "f:\\urbandataproject\\land_surface_temperature\\venv\\lib\\site-packages\\pyearth\\earth.py:1055: FutureWarning: `rcond` parameter will change to the default of machine precision times ``max(M, N)`` where M and N are the input matrix dimensions.\n",
      "To use the future default and silence this warning we advise to pass `rcond=None`, to keep using the old, explicitly pass `rcond=-1`.\n",
      "  coef, resid = np.linalg.lstsq(B, weighted_y[:, i])[0:2]\n"
     ]
    }
   ],
   "source": [
    "calculate_partial_dependence(df, grid_size)"
   ]
  },
  {
   "cell_type": "code",
   "execution_count": 5,
   "metadata": {},
   "outputs": [],
   "source": [
    "# import results\n",
    "results_pd = pd.read_csv('data/regression/results_partial_dependence_{}.csv'.format(grid_size))"
   ]
  },
  {
   "cell_type": "code",
   "execution_count": 6,
   "metadata": {
    "scrolled": true
   },
   "outputs": [
    {
     "data": {
      "text/html": [
       "<div>\n",
       "<style scoped>\n",
       "    .dataframe tbody tr th:only-of-type {\n",
       "        vertical-align: middle;\n",
       "    }\n",
       "\n",
       "    .dataframe tbody tr th {\n",
       "        vertical-align: top;\n",
       "    }\n",
       "\n",
       "    .dataframe thead th {\n",
       "        text-align: right;\n",
       "    }\n",
       "</style>\n",
       "<table border=\"1\" class=\"dataframe\">\n",
       "  <thead>\n",
       "    <tr style=\"text-align: right;\">\n",
       "      <th></th>\n",
       "      <th>Unnamed: 0</th>\n",
       "      <th>boot</th>\n",
       "      <th>dependent</th>\n",
       "      <th>independent</th>\n",
       "      <th>mean</th>\n",
       "      <th>model</th>\n",
       "      <th>x</th>\n",
       "    </tr>\n",
       "  </thead>\n",
       "  <tbody>\n",
       "    <tr>\n",
       "      <th>0</th>\n",
       "      <td>0</td>\n",
       "      <td>NaN</td>\n",
       "      <td>lst_day_mean</td>\n",
       "      <td>ndvi_mean</td>\n",
       "      <td>1.954265</td>\n",
       "      <td>gbrt</td>\n",
       "      <td>-1.389741</td>\n",
       "    </tr>\n",
       "    <tr>\n",
       "      <th>1</th>\n",
       "      <td>1</td>\n",
       "      <td>NaN</td>\n",
       "      <td>lst_day_mean</td>\n",
       "      <td>ndvi_mean</td>\n",
       "      <td>1.135627</td>\n",
       "      <td>rf</td>\n",
       "      <td>-1.389741</td>\n",
       "    </tr>\n",
       "    <tr>\n",
       "      <th>2</th>\n",
       "      <td>2</td>\n",
       "      <td>NaN</td>\n",
       "      <td>lst_day_mean</td>\n",
       "      <td>ndvi_mean</td>\n",
       "      <td>3.580081</td>\n",
       "      <td>mars</td>\n",
       "      <td>-1.389741</td>\n",
       "    </tr>\n",
       "    <tr>\n",
       "      <th>3</th>\n",
       "      <td>3</td>\n",
       "      <td>NaN</td>\n",
       "      <td>lst_day_mean</td>\n",
       "      <td>ndvi_mean</td>\n",
       "      <td>3.655136</td>\n",
       "      <td>gam</td>\n",
       "      <td>-1.389741</td>\n",
       "    </tr>\n",
       "    <tr>\n",
       "      <th>4</th>\n",
       "      <td>4</td>\n",
       "      <td>NaN</td>\n",
       "      <td>lst_day_mean</td>\n",
       "      <td>ndvi_mean</td>\n",
       "      <td>4.403085</td>\n",
       "      <td>mlr</td>\n",
       "      <td>-1.389741</td>\n",
       "    </tr>\n",
       "  </tbody>\n",
       "</table>\n",
       "</div>"
      ],
      "text/plain": [
       "   Unnamed: 0  boot     dependent independent      mean model         x\n",
       "0           0   NaN  lst_day_mean   ndvi_mean  1.954265  gbrt -1.389741\n",
       "1           1   NaN  lst_day_mean   ndvi_mean  1.135627    rf -1.389741\n",
       "2           2   NaN  lst_day_mean   ndvi_mean  3.580081  mars -1.389741\n",
       "3           3   NaN  lst_day_mean   ndvi_mean  3.655136   gam -1.389741\n",
       "4           4   NaN  lst_day_mean   ndvi_mean  4.403085   mlr -1.389741"
      ]
     },
     "execution_count": 6,
     "metadata": {},
     "output_type": "execute_result"
    }
   ],
   "source": [
    "results_pd.head()"
   ]
  },
  {
   "cell_type": "code",
   "execution_count": 7,
   "metadata": {},
   "outputs": [],
   "source": [
    "# calculate the swing\n",
    "calc_swing(results_pd, grid_size)"
   ]
  },
  {
   "cell_type": "code",
   "execution_count": 3,
   "metadata": {},
   "outputs": [],
   "source": [
    "# import swing results\n",
    "results_swing = pd.read_csv('data/regression/results_swing_{}.csv'.format(grid_size))"
   ]
  },
  {
   "cell_type": "code",
   "execution_count": 9,
   "metadata": {},
   "outputs": [
    {
     "data": {
      "text/html": [
       "<div>\n",
       "<style scoped>\n",
       "    .dataframe tbody tr th:only-of-type {\n",
       "        vertical-align: middle;\n",
       "    }\n",
       "\n",
       "    .dataframe tbody tr th {\n",
       "        vertical-align: top;\n",
       "    }\n",
       "\n",
       "    .dataframe thead th {\n",
       "        text-align: right;\n",
       "    }\n",
       "</style>\n",
       "<table border=\"1\" class=\"dataframe\">\n",
       "  <thead>\n",
       "    <tr style=\"text-align: right;\">\n",
       "      <th></th>\n",
       "      <th>Unnamed: 0</th>\n",
       "      <th>independent</th>\n",
       "      <th>swing</th>\n",
       "      <th>model</th>\n",
       "      <th>dependent</th>\n",
       "    </tr>\n",
       "  </thead>\n",
       "  <tbody>\n",
       "    <tr>\n",
       "      <th>0</th>\n",
       "      <td>0</td>\n",
       "      <td>alb_mean</td>\n",
       "      <td>0.101408</td>\n",
       "      <td>gam</td>\n",
       "      <td>lst_day_mean</td>\n",
       "    </tr>\n",
       "    <tr>\n",
       "      <th>1</th>\n",
       "      <td>1</td>\n",
       "      <td>bldg</td>\n",
       "      <td>0.043375</td>\n",
       "      <td>gam</td>\n",
       "      <td>lst_day_mean</td>\n",
       "    </tr>\n",
       "    <tr>\n",
       "      <th>2</th>\n",
       "      <td>2</td>\n",
       "      <td>dsm_mean</td>\n",
       "      <td>0.054201</td>\n",
       "      <td>gam</td>\n",
       "      <td>lst_day_mean</td>\n",
       "    </tr>\n",
       "    <tr>\n",
       "      <th>3</th>\n",
       "      <td>3</td>\n",
       "      <td>dsm_sd</td>\n",
       "      <td>0.037041</td>\n",
       "      <td>gam</td>\n",
       "      <td>lst_day_mean</td>\n",
       "    </tr>\n",
       "    <tr>\n",
       "      <th>4</th>\n",
       "      <td>4</td>\n",
       "      <td>lcov_11</td>\n",
       "      <td>0.244536</td>\n",
       "      <td>gam</td>\n",
       "      <td>lst_day_mean</td>\n",
       "    </tr>\n",
       "  </tbody>\n",
       "</table>\n",
       "</div>"
      ],
      "text/plain": [
       "   Unnamed: 0 independent     swing model     dependent\n",
       "0           0    alb_mean  0.101408   gam  lst_day_mean\n",
       "1           1        bldg  0.043375   gam  lst_day_mean\n",
       "2           2    dsm_mean  0.054201   gam  lst_day_mean\n",
       "3           3      dsm_sd  0.037041   gam  lst_day_mean\n",
       "4           4     lcov_11  0.244536   gam  lst_day_mean"
      ]
     },
     "execution_count": 9,
     "metadata": {},
     "output_type": "execute_result"
    }
   ],
   "source": [
    "results_swing.head()"
   ]
  },
  {
   "cell_type": "code",
   "execution_count": 4,
   "metadata": {},
   "outputs": [
    {
     "name": "stderr",
     "output_type": "stream",
     "text": [
      "f:\\urbandataproject\\land_surface_temperature\\venv\\lib\\site-packages\\seaborn\\categorical.py:3666: UserWarning: The `factorplot` function has been renamed to `catplot`. The original name will be removed in a future release. Please update your code. Note that the default `kind` in `factorplot` (`'point'`) has changed `'strip'` in `catplot`.\n",
      "  warnings.warn(msg)\n",
      "f:\\urbandataproject\\land_surface_temperature\\venv\\lib\\site-packages\\matplotlib\\figure.py:2369: UserWarning: This figure includes Axes that are not compatible with tight_layout, so results might be incorrect.\n",
      "  warnings.warn(\"This figure includes Axes that are not compatible \"\n"
     ]
    },
    {
     "data": {
      "image/png": "[encoded data removed]",
      "text/plain": [
       "<Figure size 1874.4x360 with 5 Axes>"
      ]
     },
     "metadata": {},
     "output_type": "display_data"
    },
    {
     "data": {
      "text/plain": [
       "['% tree canopy',\n",
       " 'ndvi',\n",
       " '% water',\n",
       " 'sky view factor',\n",
       " 'digital surface model',\n",
       " 'albedo',\n",
       " 'max % tree can.',\n",
       " 'dsm stand. dev.',\n",
       " 'max nbdi',\n",
       " 'min % tree can.',\n",
       " '% building area',\n",
       " 'pop. density',\n",
       " 'max sky view factor']"
      ]
     },
     "execution_count": 4,
     "metadata": {},
     "output_type": "execute_result"
    },
    {
     "data": {
      "text/plain": [
       "<Figure size 432x288 with 0 Axes>"
      ]
     },
     "metadata": {},
     "output_type": "display_data"
    }
   ],
   "source": [
    "# plot\n",
    "plot_importance(results_swing, grid_size)"
   ]
  }
 ],
 "metadata": {
  "kernelspec": {
   "display_name": "Python 3",
   "language": "python",
   "name": "python3"
  },
  "language_info": {
   "codemirror_mode": {
    "name": "ipython",
    "version": 3
   },
   "file_extension": ".py",
   "mimetype": "text/x-python",
   "name": "python",
   "nbconvert_exporter": "python",
   "pygments_lexer": "ipython3",
   "version": "3.6.4"
  }
 },
 "nbformat": 4,
 "nbformat_minor": 2
}
