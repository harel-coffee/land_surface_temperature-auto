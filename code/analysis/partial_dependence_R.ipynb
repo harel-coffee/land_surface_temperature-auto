{
 "cells": [
  {
   "cell_type": "markdown",
   "metadata": {},
   "source": [
    "This code plots the bootstrapped partial dependence plots"
   ]
  },
  {
   "cell_type": "code",
   "execution_count": 1,
   "metadata": {},
   "outputs": [
    {
     "name": "stderr",
     "output_type": "stream",
     "text": [
      "Warning message:\n",
      "\"package 'data.table' was built under R version 3.4.4\"Warning message:\n",
      "\"package 'ggplot2' was built under R version 3.4.4\"Warning message:\n",
      "\"package 'ggthemes' was built under R version 3.4.4\"Warning message:\n",
      "\"package 'gridExtra' was built under R version 3.4.4\"Warning message:\n",
      "\"package 'extrafont' was built under R version 3.4.4\"Registering fonts with R\n"
     ]
    }
   ],
   "source": [
    "# import libraries\n",
    "library(data.table)\n",
    "library(ggplot2)\n",
    "library(ggthemes)\n",
    "library(gridExtra)\n",
    "library(extrafont)"
   ]
  },
  {
   "cell_type": "code",
   "execution_count": 2,
   "metadata": {},
   "outputs": [],
   "source": [
    "cbbPalette <- c('pink',\"#E69F00\", \"#009E73\", \"#0072B2\", \"#56B4E9\", \"#CC79A7\", \"#D55E00\", \"#F0E442\")"
   ]
  },
  {
   "cell_type": "code",
   "execution_count": 3,
   "metadata": {},
   "outputs": [],
   "source": [
    "grid.size <- 500"
   ]
  },
  {
   "cell_type": "code",
   "execution_count": 4,
   "metadata": {},
   "outputs": [],
   "source": [
    "# import the data\n",
    "dt = fread(paste0('../../data/regression/results_partial_dependents_', grid.size, '.csv'))\n",
    "\n",
    "# import raw data for the histograms\n",
    "df = fread(paste0('../../data/data_regressions_', grid.size,'_20190405_unnormalized.csv'))"
   ]
  },
  {
   "cell_type": "markdown",
   "metadata": {},
   "source": [
    "# Plot the PDPs"
   ]
  },
  {
   "cell_type": "code",
   "execution_count": 5,
   "metadata": {},
   "outputs": [],
   "source": [
    "plots <- list()\n",
    "ncol.plot <- 5\n",
    "# xlims <- c(0,30)"
   ]
  },
  {
   "cell_type": "code",
   "execution_count": 6,
   "metadata": {},
   "outputs": [],
   "source": [
    "feature_names <- c('lcov_11' = '% water','tree_mean'='% tree canopy','ndvi_mean'='ndvi','svf_mean'='sky view factor',\n",
    "                    'dsm_mean'='digital surface model','alb_mean'='albedo','dsm_sd'='dsm stand. dev.','nbdi_max'='max nbdi',\n",
    "                    'tree_max'='max % tree can.', 'tree_min'='min % tree can.',\n",
    "                    'bldg'='% building area','pdens_mean'='pop. density',\n",
    "                    'tree_sd'= '% tree can. stand. dev.', 'nbdi_sd_sl'='nbdi surrounding stand. dev.',\n",
    "                    'tree_sd_sl'='% tree can. surrounding stand. dev.',\n",
    "                    'ndvi_sd'= 'ndvi stand. dev'   )"
   ]
  },
  {
   "cell_type": "code",
   "execution_count": 7,
   "metadata": {},
   "outputs": [],
   "source": [
    "# calculate the histogram for each of the features\n",
    "# df_hist <- df[density_housesarea > xlims[1] & density_housesarea < xlims[2],]"
   ]
  },
  {
   "cell_type": "code",
   "execution_count": 8,
   "metadata": {},
   "outputs": [],
   "source": [
    "if (grid.size == 500){\n",
    "    hist_scaling <- c(20, 0.8, 12, 0.35, 400, 200, 30, 0.7, 60, 7000)\n",
    "    } else {\n",
    "    hist_scaling <- c(35, 0.9, 1.3, 0.45, 400, \n",
    "                      250, 10, 0.15, 35, 6000)\n",
    "}"
   ]
  },
  {
   "cell_type": "code",
   "execution_count": 9,
   "metadata": {},
   "outputs": [],
   "source": [
    "font.size <- 15"
   ]
  },
  {
   "cell_type": "code",
   "execution_count": 10,
   "metadata": {},
   "outputs": [],
   "source": [
    "dt_sub <- dt[dependent == 'lst_night_mean',]\n",
    "plots <- list()\n",
    "# import the feature order\n",
    "if (grid.size == 500){\n",
    "    features = c('tree_mean', 'ndvi_mean', 'lcov_11', 'svf_mean', 'dsm_mean')#, 'alb_mean', 'tree_max', 'nbdi_max', 'bldg', 'pdens_mean')\n",
    "    hist_scaling <- c(20, 0.8, 12, 0.35, 400)\n",
    "    } else {\n",
    "    features = c('tree_mean', 'ndvi_mean', 'lcov_11', 'svf_mean', 'dsm_mean')#, 'alb_mean', 'tree_sd', 'nbdi_sd_sl', 'bldg', 'pdens_mean')\n",
    "    hist_scaling <- c(35, 0.9, 1.3, 0.45, 400)\n",
    "}\n",
    "# determine the axis limits\n",
    "y_min <- -8#round(min(dt[,'mean'])*2)/2\n",
    "y_max <- 5#round(max(dt[,'mean'])*2)/2\n",
    "ylims <- c(y_min,y_max) - y_min\n",
    "\n",
    "\n",
    "for (i in seq(length(features))){\n",
    "    var <- features[[i]]\n",
    "    # subset the dataframe \n",
    "    dt_plot <- dt_sub[independent == var,]\n",
    "    xlims <- c(min(dt_plot[,x]), max(dt_plot[,x])) + max(dt_plot[,x])*c(-0.05,0.05)\n",
    "    # plot the lines\n",
    "    plt <- ggplot(dt_plot,aes(x = x, y = mean - y_min, color = model)) +\n",
    "        geom_line(aes(group = interaction(model, boot)), alpha = 0.3) +\n",
    "        geom_hline(yintercept = -y_min, linetype=\"dashed\", color = \"red\") + \n",
    "        xlab(feature_names[var]) + \n",
    "        ylab('') + \n",
    "        scale_colour_manual(values=cbbPalette) + \n",
    "        theme_few()  + \n",
    "        theme(text=element_text(size=font.size, family=\"Corbel\"),\n",
    "              legend.title = element_blank(),\n",
    "              legend.position=\"none\", \n",
    "              plot.title = element_text(size = font.size)\n",
    "             ) + \n",
    "        guides(color = guide_legend(override.aes= list(alpha = 1))) +\n",
    "        scale_y_continuous(breaks = c(seq(ylims[1], ylims[2],length = 5),-y_min), labels= c(seq(y_min,y_max,length = 5),0)) \n",
    "        if (i == 1 || i==6){\n",
    "            plt <- plt + ylab(expression(\"change in \"*~degree*C)) \n",
    "            }\n",
    "#         ggtitle(health_titles[var]) + \n",
    "#         theme_black() +\n",
    "#     if (i == 8){\n",
    "#         plt <- plt + theme(text=element_text(size=10),\n",
    "#               legend.title = element_blank(),\n",
    "#               legend.position=\"none\", \n",
    "#               plot.title = element_text(size = 10)\n",
    "#              )\n",
    "#         }\n",
    "    # plot the histogram\n",
    "    df_hist <- df[as.vector((df[, ..var] >= xlims[1]) & (df[,..var] <= xlims[2])),]\n",
    "    plt <- plt + geom_histogram(data=df_hist, bins=30, mapping=aes_string(var, paste0('..density..*',hist_scaling[i])), color = 'black', alpha = 0.5)\n",
    "    plt <- plt + coord_cartesian(ylim=ylims, xlim=xlims, expand=0)  \n",
    "    # add to list\n",
    "    plots[[i]] <- plt\n",
    "#     ggsave('../../fig/report/pdp_uncert_night.png', plt, width=17.8/2.54, height=11.5/2.54)\n",
    "    }"
   ]
  },
  {
   "cell_type": "code",
   "execution_count": null,
   "metadata": {
    "scrolled": false
   },
   "outputs": [],
   "source": [
    "plots.grid <- do.call(\"grid.arrange\", c(plots, ncol=ncol.plot))\n",
    "outname <- paste0('../../fig/report/pdp_uncert_night_',grid.size,'.png')\n",
    "ggsave(outname, plots.grid, width=17.8, height=3.5, dpi=500)"
   ]
  },
  {
   "cell_type": "code",
   "execution_count": null,
   "metadata": {},
   "outputs": [],
   "source": [
    "dt_sub <- dt[dependent == 'lst_day_mean',]\n",
    "plots <- list()\n",
    "# import the feature order\n",
    "if (grid.size == 500){\n",
    "    features <- c('lcov_11', 'ndvi_mean', 'tree_mean', 'alb_mean','dsm_mean')\n",
    "    hist_scaling <- c(12, 0.8, 20, 200, 400)\n",
    "    } else {\n",
    "    features = c('tree_mean', 'ndvi_mean', 'lcov_11', 'svf_mean', 'dsm_mean')#, 'alb_mean', 'tree_sd', 'nbdi_sd_sl', 'bldg', 'pdens_mean')\n",
    "    hist_scaling <- c(35, 0.9, 1.3, 0.45, 400)\n",
    "}\n",
    "# determine the axis limits\n",
    "y_min <- -8#round(min(dt[,'mean'])*2)/2\n",
    "y_max <- 5#round(max(dt[,'mean'])*2)/2\n",
    "ylims <- c(y_min,y_max) - y_min\n",
    "\n",
    "for (i in seq(length(features))){\n",
    "    var <- features[[i]]\n",
    "    # subset the dataframe \n",
    "    dt_plot <- dt_sub[independent == var,]\n",
    "    xlims <- c(min(dt_plot[,x]), max(dt_plot[,x])) + max(dt_plot[,x])*c(-0.05,0.05)\n",
    "    # plot the lines\n",
    "    plt <- ggplot(dt_plot,aes(x = x, y = mean - y_min, color = model)) +\n",
    "        geom_line(aes(group = interaction(model, boot)), alpha = 0.3) +\n",
    "        geom_hline(yintercept = -y_min, linetype=\"dashed\", color = \"red\") + \n",
    "        xlab(feature_names[var]) + \n",
    "        ylab('') + \n",
    "        scale_colour_manual(values=cbbPalette) + \n",
    "        theme_few()  + \n",
    "        theme(text=element_text(size=font.size, family=\"Corbel\"),\n",
    "              legend.title = element_blank(),\n",
    "              legend.position=\"none\", \n",
    "              plot.title = element_text(size = font.size)\n",
    "             ) + \n",
    "        guides(color = guide_legend(override.aes= list(alpha = 1))) +\n",
    "        scale_y_continuous(breaks = c(seq(ylims[1], ylims[2],length = 5),-y_min), labels= c(seq(y_min,y_max,length = 5),0)) \n",
    "        if (i == 1 || i==6){\n",
    "            plt <- plt + ylab(expression(\"change in \"*~degree*C)) \n",
    "            }\n",
    "#         ggtitle(health_titles[var]) + \n",
    "#         theme_black() +\n",
    "#     if (i == 8){\n",
    "#         plt <- plt + theme(text=element_text(size=10),\n",
    "#               legend.title = element_blank(),\n",
    "#               legend.position=\"none\", \n",
    "#               plot.title = element_text(size = 10)\n",
    "#              )\n",
    "#         }\n",
    "    # plot the histogram\n",
    "    df_hist <- df[as.vector((df[, ..var] >= xlims[1]) & (df[,..var] <= xlims[2])),]\n",
    "    plt <- plt + geom_histogram(data=df_hist, bins=30, mapping=aes_string(var, paste0('..density..*',hist_scaling[i])), color = 'black', alpha = 0.5)\n",
    "    plt <- plt + coord_cartesian(ylim=ylims, xlim=xlims, expand=0)  \n",
    "    # add to list\n",
    "    plots[[i]] <- plt\n",
    "#     ggsave('../../fig/report/pdp_uncert_day.png', plt, width=17.8/2.54, height=11.5/2.54)\n",
    "    }"
   ]
  },
  {
   "cell_type": "code",
   "execution_count": null,
   "metadata": {},
   "outputs": [],
   "source": [
    "plots.grid <- do.call(\"grid.arrange\", c(plots, ncol=ncol.plot))\n",
    "outname <- paste0('../../fig/report/pdp_uncert_day_',grid.size,'.png')\n",
    "ggsave(outname, plots.grid, width=17.8, height=3.5, dpi=500)"
   ]
  },
  {
   "cell_type": "code",
   "execution_count": null,
   "metadata": {},
   "outputs": [],
   "source": [
    "dt_sub <- dt[dependent == 'lst_night_max',]\n",
    "plots <- list()\n",
    "# import the feature order\n",
    "if (grid.size == 500){\n",
    "    features <- c('tree_min', 'ndvi_mean','tree_mean','dsm_mean','svf_mean') # c('lcov_11', 'ndvi_mean', 'tree_mean', 'alb_mean','dsm_mean')\n",
    "    hist_scaling <- c(11, 0.8, 20, 400, 0.35)\n",
    "    } else {\n",
    "    features = c('tree_mean', 'ndvi_mean', 'lcov_11', 'svf_mean', 'dsm_mean')#, 'alb_mean', 'tree_sd', 'nbdi_sd_sl', 'bldg', 'pdens_mean')\n",
    "    hist_scaling <- c(35, 0.9, 1.3, 0.45, 400)\n",
    "}\n",
    "# determine the axis limits\n",
    "y_min <- -8#round(min(dt[,'mean'])*2)/2\n",
    "y_max <- 5#round(max(dt[,'mean'])*2)/2\n",
    "ylims <- c(y_min,y_max) - y_min\n",
    "\n",
    "for (i in seq(length(features))){\n",
    "    var <- features[[i]]\n",
    "    # subset the dataframe \n",
    "    dt_plot <- dt_sub[independent == var,]\n",
    "    xlims <- c(min(dt_plot[,x]), max(dt_plot[,x])) + max(dt_plot[,x])*c(-0.05,0.05)\n",
    "    # plot the lines\n",
    "    plt <- ggplot(dt_plot,aes(x = x, y = mean - y_min, color = model)) +\n",
    "        geom_line(aes(group = interaction(model, boot)), alpha = 0.3) +\n",
    "        geom_hline(yintercept = -y_min, linetype=\"dashed\", color = \"red\") + \n",
    "        xlab(feature_names[var]) + \n",
    "        ylab('') + \n",
    "        scale_colour_manual(values=cbbPalette) + \n",
    "        theme_few()  + \n",
    "        theme(text=element_text(size=font.size, family=\"Corbel\"),\n",
    "              legend.title = element_blank(),\n",
    "              legend.position=\"none\", \n",
    "              plot.title = element_text(size = font.size)\n",
    "             ) + \n",
    "        guides(color = guide_legend(override.aes= list(alpha = 1))) +\n",
    "        scale_y_continuous(breaks = c(seq(ylims[1], ylims[2],length = 5),-y_min), labels= c(seq(y_min,y_max,length = 5),0)) \n",
    "        if (i == 1 || i==6){\n",
    "            plt <- plt + ylab(expression(\"change in \"*~degree*C)) \n",
    "            }\n",
    "#         ggtitle(health_titles[var]) + \n",
    "#         theme_black() +\n",
    "#     if (i == 8){\n",
    "#         plt <- plt + theme(text=element_text(size=10),\n",
    "#               legend.title = element_blank(),\n",
    "#               legend.position=\"none\", \n",
    "#               plot.title = element_text(size = 10)\n",
    "#              )\n",
    "#         }\n",
    "    # plot the histogram\n",
    "    df_hist <- df[as.vector((df[, ..var] >= xlims[1]) & (df[,..var] <= xlims[2])),]\n",
    "    plt <- plt + geom_histogram(data=df_hist, bins=30, mapping=aes_string(var, paste0('..density..*',hist_scaling[i])), color = 'black', alpha = 0.5)\n",
    "    plt <- plt + coord_cartesian(ylim=ylims, xlim=xlims, expand=0)  \n",
    "    # add to list\n",
    "    plots[[i]] <- plt\n",
    "#     ggsave('../../fig/report/pdp_uncert_day.png', plt, width=17.8/2.54, height=11.5/2.54)\n",
    "    }"
   ]
  },
  {
   "cell_type": "code",
   "execution_count": null,
   "metadata": {},
   "outputs": [],
   "source": [
    "plots.grid <- do.call(\"grid.arrange\", c(plots, ncol=ncol.plot))\n",
    "outname <- paste0('../../fig/report/pdp_uncert_nightmax_',grid.size,'.png')\n",
    "ggsave(outname, plots.grid, width=17.8, height=3.5, dpi=500)"
   ]
  },
  {
   "cell_type": "code",
   "execution_count": null,
   "metadata": {},
   "outputs": [],
   "source": [
    "dt_sub <- dt[dependent == 'lst_day_max',]\n",
    "plots <- list()\n",
    "# import the feature order\n",
    "if (grid.size == 500){\n",
    "    features <- c('tree_min', 'ndvi_mean','alb_mean','lcov_11','nbdi_max') # c('lcov_11', 'ndvi_mean', 'tree_mean', 'alb_mean','dsm_mean')\n",
    "    hist_scaling <- c(11, 0.8, 200, 12, 0.7)\n",
    "    } else {\n",
    "    features = c('tree_mean', 'ndvi_mean', 'lcov_11', 'svf_mean', 'dsm_mean')#, 'alb_mean', 'tree_sd', 'nbdi_sd_sl', 'bldg', 'pdens_mean')\n",
    "    hist_scaling <- c(35, 0.9, 1.3, 0.45, 400)\n",
    "}\n",
    "# determine the axis limits\n",
    "y_min <- -8#round(min(dt[,'mean'])*2)/2\n",
    "y_max <- 5#round(max(dt[,'mean'])*2)/2\n",
    "ylims <- c(y_min,y_max) - y_min\n",
    "\n",
    "for (i in seq(length(features))){\n",
    "    var <- features[[i]]\n",
    "    # subset the dataframe \n",
    "    dt_plot <- dt_sub[independent == var,]\n",
    "    xlims <- c(min(dt_plot[,x]), max(dt_plot[,x])) + max(dt_plot[,x])*c(-0.05,0.05)\n",
    "    # plot the lines\n",
    "    plt <- ggplot(dt_plot,aes(x = x, y = mean - y_min, color = model)) +\n",
    "        geom_line(aes(group = interaction(model, boot)), alpha = 0.3) +\n",
    "        geom_hline(yintercept = -y_min, linetype=\"dashed\", color = \"red\") + \n",
    "        xlab(feature_names[var]) + \n",
    "        ylab('') + \n",
    "        scale_colour_manual(values=cbbPalette) + \n",
    "        theme_few()  + \n",
    "        theme(text=element_text(size=font.size, family=\"Corbel\"),\n",
    "              legend.title = element_blank(),\n",
    "              legend.position=\"none\", \n",
    "              plot.title = element_text(size = font.size)\n",
    "             ) + \n",
    "        guides(color = guide_legend(override.aes= list(alpha = 1))) +\n",
    "        scale_y_continuous(breaks = c(seq(ylims[1], ylims[2],length = 5),-y_min), labels= c(seq(y_min,y_max,length = 5),0)) \n",
    "        if (i == 1 || i==6){\n",
    "            plt <- plt + ylab(expression(\"change in \"*~degree*C)) \n",
    "            }\n",
    "#         ggtitle(health_titles[var]) + \n",
    "#         theme_black() +\n",
    "#     if (i == 8){\n",
    "#         plt <- plt + theme(text=element_text(size=10),\n",
    "#               legend.title = element_blank(),\n",
    "#               legend.position=\"none\", \n",
    "#               plot.title = element_text(size = 10)\n",
    "#              )\n",
    "#         }\n",
    "    # plot the histogram\n",
    "    df_hist <- df[as.vector((df[, ..var] >= xlims[1]) & (df[,..var] <= xlims[2])),]\n",
    "    plt <- plt + geom_histogram(data=df_hist, bins=30, mapping=aes_string(var, paste0('..density..*',hist_scaling[i])), color = 'black', alpha = 0.5)\n",
    "    plt <- plt + coord_cartesian(ylim=ylims, xlim=xlims, expand=0)  \n",
    "    # add to list\n",
    "    plots[[i]] <- plt\n",
    "#     ggsave('../../fig/report/pdp_uncert_day.png', plt, width=17.8/2.54, height=11.5/2.54)\n",
    "    }"
   ]
  },
  {
   "cell_type": "code",
   "execution_count": null,
   "metadata": {},
   "outputs": [],
   "source": [
    "plots.grid <- do.call(\"grid.arrange\", c(plots, ncol=ncol.plot))\n",
    "outname <- paste0('../../fig/report/pdp_uncert_daymax_',grid.size,'.png')\n",
    "ggsave(outname, plots.grid, width=17.8, height=3.5, dpi=500)"
   ]
  }
 ],
 "metadata": {
  "kernelspec": {
   "display_name": "R",
   "language": "R",
   "name": "ir"
  },
  "language_info": {
   "codemirror_mode": "r",
   "file_extension": ".r",
   "mimetype": "text/x-r-source",
   "name": "R",
   "pygments_lexer": "r",
   "version": "3.4.3"
  }
 },
 "nbformat": 4,
 "nbformat_minor": 2
}
