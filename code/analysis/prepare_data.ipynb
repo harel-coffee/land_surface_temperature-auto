{
 "cells": [
  {
   "cell_type": "markdown",
   "metadata": {},
   "source": [
    "# Data Preparation"
   ]
  },
  {
   "cell_type": "markdown",
   "metadata": {},
   "source": [
    "Clean the data here, once, and export as a csv for analysis."
   ]
  },
  {
   "cell_type": "code",
   "execution_count": 37,
   "metadata": {},
   "outputs": [],
   "source": [
    "# import libraries\n",
    "import pandas as pd"
   ]
  },
  {
   "cell_type": "code",
   "execution_count": 38,
   "metadata": {},
   "outputs": [],
   "source": [
    "# import data\n",
    "df = pd.read_csv('../../data/processed/grid/bal/2018-09-23_var/bal_data_500.csv')"
   ]
  },
  {
   "cell_type": "code",
   "execution_count": 47,
   "metadata": {},
   "outputs": [
    {
     "data": {
      "text/html": [
       "<div>\n",
       "<style scoped>\n",
       "    .dataframe tbody tr th:only-of-type {\n",
       "        vertical-align: middle;\n",
       "    }\n",
       "\n",
       "    .dataframe tbody tr th {\n",
       "        vertical-align: top;\n",
       "    }\n",
       "\n",
       "    .dataframe thead th {\n",
       "        text-align: right;\n",
       "    }\n",
       "</style>\n",
       "<table border=\"1\" class=\"dataframe\">\n",
       "  <thead>\n",
       "    <tr style=\"text-align: right;\">\n",
       "      <th></th>\n",
       "      <th>x</th>\n",
       "      <th>y</th>\n",
       "      <th>area</th>\n",
       "      <th>lst_day_mean</th>\n",
       "      <th>lst_day_max</th>\n",
       "      <th>lst_day_min</th>\n",
       "      <th>lst_day_var</th>\n",
       "      <th>lst_night_mean</th>\n",
       "      <th>lst_night_max</th>\n",
       "      <th>lst_night_min</th>\n",
       "      <th>...</th>\n",
       "      <th>svf_min_sl</th>\n",
       "      <th>svf_var_sl</th>\n",
       "      <th>dsm_mean_sl</th>\n",
       "      <th>dsm_max_sl</th>\n",
       "      <th>dsm_min_sl</th>\n",
       "      <th>dsm_var_sl</th>\n",
       "      <th>elev_mean_sl</th>\n",
       "      <th>elev_max_sl</th>\n",
       "      <th>elev_min_sl</th>\n",
       "      <th>elev_var_sl</th>\n",
       "    </tr>\n",
       "  </thead>\n",
       "  <tbody>\n",
       "    <tr>\n",
       "      <th>count</th>\n",
       "      <td>873.000000</td>\n",
       "      <td>873.000000</td>\n",
       "      <td>873.000000</td>\n",
       "      <td>873.000000</td>\n",
       "      <td>873.000000</td>\n",
       "      <td>873.000000</td>\n",
       "      <td>873.000000</td>\n",
       "      <td>873.000000</td>\n",
       "      <td>873.000000</td>\n",
       "      <td>873.000000</td>\n",
       "      <td>...</td>\n",
       "      <td>873.000000</td>\n",
       "      <td>873.000000</td>\n",
       "      <td>873.000000</td>\n",
       "      <td>873.000000</td>\n",
       "      <td>873.000000</td>\n",
       "      <td>873.000000</td>\n",
       "      <td>873.000000</td>\n",
       "      <td>873.000000</td>\n",
       "      <td>873.000000</td>\n",
       "      <td>873.000000</td>\n",
       "    </tr>\n",
       "    <tr>\n",
       "      <th>mean</th>\n",
       "      <td>433071.780346</td>\n",
       "      <td>182388.614704</td>\n",
       "      <td>239612.992222</td>\n",
       "      <td>42.033448</td>\n",
       "      <td>46.101818</td>\n",
       "      <td>35.045417</td>\n",
       "      <td>10.184243</td>\n",
       "      <td>28.973201</td>\n",
       "      <td>30.813984</td>\n",
       "      <td>24.428318</td>\n",
       "      <td>...</td>\n",
       "      <td>0.525054</td>\n",
       "      <td>0.004235</td>\n",
       "      <td>61.441671</td>\n",
       "      <td>92.276754</td>\n",
       "      <td>46.173275</td>\n",
       "      <td>58.079479</td>\n",
       "      <td>58.495292</td>\n",
       "      <td>69.815675</td>\n",
       "      <td>46.977901</td>\n",
       "      <td>39.309474</td>\n",
       "    </tr>\n",
       "    <tr>\n",
       "      <th>std</th>\n",
       "      <td>4470.021231</td>\n",
       "      <td>4401.682579</td>\n",
       "      <td>33375.791984</td>\n",
       "      <td>4.049121</td>\n",
       "      <td>2.888918</td>\n",
       "      <td>6.865318</td>\n",
       "      <td>14.376319</td>\n",
       "      <td>1.927107</td>\n",
       "      <td>1.316732</td>\n",
       "      <td>4.348771</td>\n",
       "      <td>...</td>\n",
       "      <td>0.109578</td>\n",
       "      <td>0.003037</td>\n",
       "      <td>41.666641</td>\n",
       "      <td>41.932075</td>\n",
       "      <td>38.971040</td>\n",
       "      <td>45.820298</td>\n",
       "      <td>41.339051</td>\n",
       "      <td>42.451143</td>\n",
       "      <td>38.958348</td>\n",
       "      <td>39.665628</td>\n",
       "    </tr>\n",
       "    <tr>\n",
       "      <th>min</th>\n",
       "      <td>424996.178971</td>\n",
       "      <td>170212.211496</td>\n",
       "      <td>354.092810</td>\n",
       "      <td>22.807793</td>\n",
       "      <td>23.720533</td>\n",
       "      <td>19.782183</td>\n",
       "      <td>0.094168</td>\n",
       "      <td>20.526812</td>\n",
       "      <td>23.204323</td>\n",
       "      <td>16.375092</td>\n",
       "      <td>...</td>\n",
       "      <td>0.115733</td>\n",
       "      <td>0.000547</td>\n",
       "      <td>2.792569</td>\n",
       "      <td>22.861799</td>\n",
       "      <td>-7.290245</td>\n",
       "      <td>5.768982</td>\n",
       "      <td>1.232402</td>\n",
       "      <td>3.813496</td>\n",
       "      <td>-0.631487</td>\n",
       "      <td>0.952709</td>\n",
       "    </tr>\n",
       "    <tr>\n",
       "      <th>25%</th>\n",
       "      <td>429496.178971</td>\n",
       "      <td>179212.211496</td>\n",
       "      <td>250000.000000</td>\n",
       "      <td>40.376811</td>\n",
       "      <td>44.287132</td>\n",
       "      <td>29.051159</td>\n",
       "      <td>1.340961</td>\n",
       "      <td>28.445516</td>\n",
       "      <td>29.841621</td>\n",
       "      <td>20.443888</td>\n",
       "      <td>...</td>\n",
       "      <td>0.457870</td>\n",
       "      <td>0.002480</td>\n",
       "      <td>22.794995</td>\n",
       "      <td>53.088501</td>\n",
       "      <td>10.066744</td>\n",
       "      <td>32.096592</td>\n",
       "      <td>20.150378</td>\n",
       "      <td>31.241457</td>\n",
       "      <td>11.026321</td>\n",
       "      <td>16.381232</td>\n",
       "    </tr>\n",
       "    <tr>\n",
       "      <th>50%</th>\n",
       "      <td>432996.178971</td>\n",
       "      <td>182712.211496</td>\n",
       "      <td>250000.000000</td>\n",
       "      <td>42.750324</td>\n",
       "      <td>46.201408</td>\n",
       "      <td>32.237560</td>\n",
       "      <td>3.901684</td>\n",
       "      <td>29.310599</td>\n",
       "      <td>30.688068</td>\n",
       "      <td>21.589033</td>\n",
       "      <td>...</td>\n",
       "      <td>0.533105</td>\n",
       "      <td>0.003472</td>\n",
       "      <td>55.825839</td>\n",
       "      <td>87.651879</td>\n",
       "      <td>40.203563</td>\n",
       "      <td>43.486246</td>\n",
       "      <td>52.851992</td>\n",
       "      <td>64.040571</td>\n",
       "      <td>41.181864</td>\n",
       "      <td>27.766738</td>\n",
       "    </tr>\n",
       "    <tr>\n",
       "      <th>75%</th>\n",
       "      <td>436996.178971</td>\n",
       "      <td>186212.211496</td>\n",
       "      <td>250000.000000</td>\n",
       "      <td>44.792342</td>\n",
       "      <td>47.961624</td>\n",
       "      <td>41.583397</td>\n",
       "      <td>14.698405</td>\n",
       "      <td>30.168775</td>\n",
       "      <td>31.529123</td>\n",
       "      <td>28.821945</td>\n",
       "      <td>...</td>\n",
       "      <td>0.596182</td>\n",
       "      <td>0.005182</td>\n",
       "      <td>96.605942</td>\n",
       "      <td>129.902777</td>\n",
       "      <td>76.076421</td>\n",
       "      <td>62.236969</td>\n",
       "      <td>92.945271</td>\n",
       "      <td>109.241575</td>\n",
       "      <td>77.085647</td>\n",
       "      <td>44.130840</td>\n",
       "    </tr>\n",
       "    <tr>\n",
       "      <th>max</th>\n",
       "      <td>440496.178971</td>\n",
       "      <td>189212.211496</td>\n",
       "      <td>250000.000000</td>\n",
       "      <td>49.151763</td>\n",
       "      <td>58.582375</td>\n",
       "      <td>47.422459</td>\n",
       "      <td>94.761294</td>\n",
       "      <td>32.778806</td>\n",
       "      <td>35.316219</td>\n",
       "      <td>31.341824</td>\n",
       "      <td>...</td>\n",
       "      <td>0.804769</td>\n",
       "      <td>0.026131</td>\n",
       "      <td>143.426654</td>\n",
       "      <td>176.591482</td>\n",
       "      <td>134.702774</td>\n",
       "      <td>288.939178</td>\n",
       "      <td>140.895922</td>\n",
       "      <td>146.305188</td>\n",
       "      <td>135.038254</td>\n",
       "      <td>269.000551</td>\n",
       "    </tr>\n",
       "  </tbody>\n",
       "</table>\n",
       "<p>8 rows × 119 columns</p>\n",
       "</div>"
      ],
      "text/plain": [
       "                   x              y           area  lst_day_mean  lst_day_max  \\\n",
       "count     873.000000     873.000000     873.000000    873.000000   873.000000   \n",
       "mean   433071.780346  182388.614704  239612.992222     42.033448    46.101818   \n",
       "std      4470.021231    4401.682579   33375.791984      4.049121     2.888918   \n",
       "min    424996.178971  170212.211496     354.092810     22.807793    23.720533   \n",
       "25%    429496.178971  179212.211496  250000.000000     40.376811    44.287132   \n",
       "50%    432996.178971  182712.211496  250000.000000     42.750324    46.201408   \n",
       "75%    436996.178971  186212.211496  250000.000000     44.792342    47.961624   \n",
       "max    440496.178971  189212.211496  250000.000000     49.151763    58.582375   \n",
       "\n",
       "       lst_day_min  lst_day_var  lst_night_mean  lst_night_max  lst_night_min  \\\n",
       "count   873.000000   873.000000      873.000000     873.000000     873.000000   \n",
       "mean     35.045417    10.184243       28.973201      30.813984      24.428318   \n",
       "std       6.865318    14.376319        1.927107       1.316732       4.348771   \n",
       "min      19.782183     0.094168       20.526812      23.204323      16.375092   \n",
       "25%      29.051159     1.340961       28.445516      29.841621      20.443888   \n",
       "50%      32.237560     3.901684       29.310599      30.688068      21.589033   \n",
       "75%      41.583397    14.698405       30.168775      31.529123      28.821945   \n",
       "max      47.422459    94.761294       32.778806      35.316219      31.341824   \n",
       "\n",
       "          ...       svf_min_sl  svf_var_sl  dsm_mean_sl  dsm_max_sl  \\\n",
       "count     ...       873.000000  873.000000   873.000000  873.000000   \n",
       "mean      ...         0.525054    0.004235    61.441671   92.276754   \n",
       "std       ...         0.109578    0.003037    41.666641   41.932075   \n",
       "min       ...         0.115733    0.000547     2.792569   22.861799   \n",
       "25%       ...         0.457870    0.002480    22.794995   53.088501   \n",
       "50%       ...         0.533105    0.003472    55.825839   87.651879   \n",
       "75%       ...         0.596182    0.005182    96.605942  129.902777   \n",
       "max       ...         0.804769    0.026131   143.426654  176.591482   \n",
       "\n",
       "       dsm_min_sl  dsm_var_sl  elev_mean_sl  elev_max_sl  elev_min_sl  \\\n",
       "count  873.000000  873.000000    873.000000   873.000000   873.000000   \n",
       "mean    46.173275   58.079479     58.495292    69.815675    46.977901   \n",
       "std     38.971040   45.820298     41.339051    42.451143    38.958348   \n",
       "min     -7.290245    5.768982      1.232402     3.813496    -0.631487   \n",
       "25%     10.066744   32.096592     20.150378    31.241457    11.026321   \n",
       "50%     40.203563   43.486246     52.851992    64.040571    41.181864   \n",
       "75%     76.076421   62.236969     92.945271   109.241575    77.085647   \n",
       "max    134.702774  288.939178    140.895922   146.305188   135.038254   \n",
       "\n",
       "       elev_var_sl  \n",
       "count   873.000000  \n",
       "mean     39.309474  \n",
       "std      39.665628  \n",
       "min       0.952709  \n",
       "25%      16.381232  \n",
       "50%      27.766738  \n",
       "75%      44.130840  \n",
       "max     269.000551  \n",
       "\n",
       "[8 rows x 119 columns]"
      ]
     },
     "execution_count": 47,
     "metadata": {},
     "output_type": "execute_result"
    }
   ],
   "source": [
    "df.describe()"
   ]
  },
  {
   "cell_type": "markdown",
   "metadata": {},
   "source": [
    "### > List the data"
   ]
  },
  {
   "cell_type": "code",
   "execution_count": 40,
   "metadata": {},
   "outputs": [
    {
     "data": {
      "text/plain": [
       "array(['Unnamed: 0', 'x', 'y', 'cId', 'area', 'city', 'lst_day_mean',\n",
       "       'lst_day_max', 'lst_day_min', 'lst_day_var', 'lst_night_mean',\n",
       "       'lst_night_max', 'lst_night_min', 'lst_night_var', 'alb_mean',\n",
       "       'alb_max', 'alb_min', 'alb_var', 'ndvi_mean', 'ndvi_max',\n",
       "       'ndvi_min', 'ndvi_var', 'lcov_11', 'lcov_21', 'lcov_22', 'lcov_23',\n",
       "       'lcov_24', 'lcov_31', 'lcov_41', 'lcov_42', 'lcov_43', 'lcov_52',\n",
       "       'lcov_71', 'lcov_90', 'lcov_95', 'tree_mean', 'tree_max',\n",
       "       'tree_min', 'tree_var', 'imp_mean', 'imp_max', 'imp_min',\n",
       "       'imp_var', 'nbdi_mean', 'nbdi_max', 'nbdi_min', 'nbdi_var',\n",
       "       'pop_dens', 'bldg', 'ntl_mean', 'ntl_max', 'ntl_min', 'ntl_var',\n",
       "       'svf_mean', 'svf_max', 'svf_min', 'svf_var', 'dsm_mean', 'dsm_max',\n",
       "       'dsm_min', 'dsm_var', 'elev_mean', 'elev_max', 'elev_min',\n",
       "       'elev_var', 'lst_day_mean_sl', 'lst_day_max_sl', 'lst_day_min_sl',\n",
       "       'lst_day_var_sl', 'lst_night_mean_sl', 'lst_night_max_sl',\n",
       "       'lst_night_min_sl', 'lst_night_var_sl', 'alb_mean_sl',\n",
       "       'alb_max_sl', 'alb_min_sl', 'alb_var_sl', 'ndvi_mean_sl',\n",
       "       'ndvi_max_sl', 'ndvi_min_sl', 'ndvi_var_sl', 'lcov_11_sl',\n",
       "       'lcov_21_sl', 'lcov_22_sl', 'lcov_23_sl', 'lcov_24_sl',\n",
       "       'lcov_31_sl', 'lcov_41_sl', 'lcov_42_sl', 'lcov_43_sl',\n",
       "       'lcov_52_sl', 'lcov_71_sl', 'lcov_90_sl', 'lcov_95_sl',\n",
       "       'tree_mean_sl', 'tree_max_sl', 'tree_min_sl', 'tree_var_sl',\n",
       "       'imp_mean_sl', 'imp_max_sl', 'imp_min_sl', 'imp_var_sl',\n",
       "       'nbdi_mean_sl', 'nbdi_max_sl', 'nbdi_min_sl', 'nbdi_var_sl',\n",
       "       'pop_dens_sl', 'bldg_sl', 'ntl_mean_sl', 'ntl_max_sl',\n",
       "       'ntl_min_sl', 'ntl_var_sl', 'svf_mean_sl', 'svf_max_sl',\n",
       "       'svf_min_sl', 'svf_var_sl', 'dsm_mean_sl', 'dsm_max_sl',\n",
       "       'dsm_min_sl', 'dsm_var_sl', 'elev_mean_sl', 'elev_max_sl',\n",
       "       'elev_min_sl', 'elev_var_sl'], dtype=object)"
      ]
     },
     "execution_count": 40,
     "metadata": {},
     "output_type": "execute_result"
    }
   ],
   "source": [
    "# list of the variables\n",
    "df.columns.values"
   ]
  },
  {
   "cell_type": "markdown",
   "metadata": {},
   "source": [
    "# Drop admin variables and rows which are outside of the city limits"
   ]
  },
  {
   "cell_type": "code",
   "execution_count": 41,
   "metadata": {},
   "outputs": [],
   "source": [
    "# admin variables\n",
    "df = df.drop(['Unnamed: 0', 'cId'], axis = 1)\n",
    "# outside city limits\n",
    "df = df[df['area'] > 0]"
   ]
  },
  {
   "cell_type": "markdown",
   "metadata": {},
   "source": [
    "# Drop variables with too many NaNs"
   ]
  },
  {
   "cell_type": "markdown",
   "metadata": {},
   "source": [
    "Dropping `ntl` night time light variance as there is too little variation in the data - so it's NaN.\n",
    "Keeping the `_sl` variables with 2% NaN. They could be removed, but also might be useful. So the question is do we drop the row or the column during analysis?"
   ]
  },
  {
   "cell_type": "code",
   "execution_count": 46,
   "metadata": {},
   "outputs": [
    {
     "data": {
      "text/plain": [
       "elev_var_sl    0.0\n",
       "elev_min_sl    0.0\n",
       "lcov_90        0.0\n",
       "lcov_95        0.0\n",
       "tree_mean      0.0\n",
       "tree_max       0.0\n",
       "tree_min       0.0\n",
       "tree_var       0.0\n",
       "imp_mean       0.0\n",
       "imp_max        0.0\n",
       "imp_min        0.0\n",
       "imp_var        0.0\n",
       "nbdi_mean      0.0\n",
       "nbdi_max       0.0\n",
       "nbdi_min       0.0\n",
       "nbdi_var       0.0\n",
       "pop_dens       0.0\n",
       "bldg           0.0\n",
       "ntl_mean       0.0\n",
       "ntl_max        0.0\n",
       "ntl_min        0.0\n",
       "svf_mean       0.0\n",
       "svf_max        0.0\n",
       "svf_min        0.0\n",
       "svf_var        0.0\n",
       "dsm_mean       0.0\n",
       "dsm_max        0.0\n",
       "dsm_min        0.0\n",
       "dsm_var        0.0\n",
       "lcov_71        0.0\n",
       "dtype: float64"
      ]
     },
     "execution_count": 46,
     "metadata": {},
     "output_type": "execute_result"
    }
   ],
   "source": [
    "# what % of data is NaN?\n",
    "((len(df) - df.count() ) / len(df)).sort_values(ascending=False)[0:30]"
   ]
  },
  {
   "cell_type": "markdown",
   "metadata": {},
   "source": [
    "Drop `ntl_var`"
   ]
  },
  {
   "cell_type": "code",
   "execution_count": 43,
   "metadata": {},
   "outputs": [],
   "source": [
    "df = df.drop(['ntl_var','ntl_var_sl'], axis=1)"
   ]
  },
  {
   "cell_type": "markdown",
   "metadata": {},
   "source": [
    "Drop NaN rows and columns (shouldn't be any)"
   ]
  },
  {
   "cell_type": "code",
   "execution_count": 45,
   "metadata": {},
   "outputs": [],
   "source": []
  },
  {
   "cell_type": "markdown",
   "metadata": {},
   "source": [
    "# Land cover"
   ]
  },
  {
   "cell_type": "code",
   "execution_count": 28,
   "metadata": {},
   "outputs": [],
   "source": []
  },
  {
   "cell_type": "markdown",
   "metadata": {},
   "source": [
    "Turn the landcover variables into a percentage of the grid cell"
   ]
  },
  {
   "cell_type": "code",
   "execution_count": null,
   "metadata": {},
   "outputs": [],
   "source": []
  },
  {
   "cell_type": "markdown",
   "metadata": {},
   "source": [
    "Drop cells with water more than 20% of area"
   ]
  },
  {
   "cell_type": "code",
   "execution_count": null,
   "metadata": {},
   "outputs": [],
   "source": []
  },
  {
   "cell_type": "markdown",
   "metadata": {},
   "source": [
    "Drop the land cover variables that aren't water (they're used in calculating LST)"
   ]
  },
  {
   "cell_type": "code",
   "execution_count": null,
   "metadata": {},
   "outputs": [],
   "source": []
  },
  {
   "cell_type": "markdown",
   "metadata": {},
   "source": [
    "# Tree canopy"
   ]
  },
  {
   "cell_type": "code",
   "execution_count": null,
   "metadata": {},
   "outputs": [],
   "source": [
    "# make tree values a percentage\n",
    "vars_tree = [i for i in vars_all if 'tree' in i]\n",
    "df.loc[:,vars_tree] = df[vars_tree]/100"
   ]
  },
  {
   "cell_type": "markdown",
   "metadata": {},
   "source": [
    "# Elevation (DEM)"
   ]
  },
  {
   "cell_type": "markdown",
   "metadata": {},
   "source": [
    "Subtract the mean from the elevation values"
   ]
  },
  {
   "cell_type": "code",
   "execution_count": null,
   "metadata": {},
   "outputs": [],
   "source": [
    "vars_elev = [i for i in vars_all if 'elev' in i]"
   ]
  },
  {
   "cell_type": "code",
   "execution_count": null,
   "metadata": {},
   "outputs": [],
   "source": []
  },
  {
   "cell_type": "markdown",
   "metadata": {},
   "source": [
    "# Export to csv"
   ]
  },
  {
   "cell_type": "code",
   "execution_count": null,
   "metadata": {},
   "outputs": [],
   "source": [
    "df.to_csv('../../data/cleaned/bal/bal_data.csv')"
   ]
  }
 ],
 "metadata": {
  "kernelspec": {
   "display_name": "Python 3",
   "language": "python",
   "name": "python3"
  },
  "language_info": {
   "codemirror_mode": {
    "name": "ipython",
    "version": 3
   },
   "file_extension": ".py",
   "mimetype": "text/x-python",
   "name": "python",
   "nbconvert_exporter": "python",
   "pygments_lexer": "ipython3",
   "version": "3.6.4"
  }
 },
 "nbformat": 4,
 "nbformat_minor": 2
}
