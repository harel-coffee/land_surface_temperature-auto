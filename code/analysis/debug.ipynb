{
 "cells": [
  {
   "cell_type": "code",
   "execution_count": 1,
   "metadata": {},
   "outputs": [],
   "source": [
    "# os.chdir(code_dir)\n",
    "from analysis import *\n",
    "%matplotlib inline\n",
    "import matplotlib as mpl\n",
    "import matplotlib.pyplot as plt\n",
    "import os\n",
    "code_dir = os.getcwd()\n",
    "os.chdir('../..')\n"
   ]
  },
  {
   "cell_type": "code",
   "execution_count": 2,
   "metadata": {},
   "outputs": [],
   "source": [
    "cities = ['bal', 'por', 'det', 'phx']\n",
    "# import data\n",
    "df = import_data(cities)\n",
    "\n",
    "# data transformations\n",
    "df = transform_data(df)"
   ]
  },
  {
   "cell_type": "code",
   "execution_count": 3,
   "metadata": {},
   "outputs": [
    {
     "data": {
      "image/png": "[encoded data removed]",
      "text/plain": [
       "<Figure size 432x288 with 1 Axes>"
      ]
     },
     "metadata": {},
     "output_type": "display_data"
    }
   ],
   "source": [
    "predict_quant = 'lst'\n",
    "df2 = normalize_response(cities, df, predict_quant)\n",
    "df2, response = prepare_lst_prediction(df)\n",
    "\n",
    "response_keys = list(response.keys())\n",
    "plt.hist(response[response_keys[0]])\n",
    "plt.show()"
   ]
  },
  {
   "cell_type": "markdown",
   "metadata": {},
   "source": [
    "# Train on Detroit, test on Baltimore"
   ]
  },
  {
   "cell_type": "code",
   "execution_count": 4,
   "metadata": {},
   "outputs": [
    {
     "name": "stdout",
     "output_type": "stream",
     "text": [
      "(10034, 86)\n",
      "(10034, 6)\n"
     ]
    }
   ],
   "source": [
    "print(df.shape)\n",
    "print(response.shape)"
   ]
  },
  {
   "cell_type": "code",
   "execution_count": 5,
   "metadata": {},
   "outputs": [],
   "source": [
    "X_train = df2[df2['city']=='det']\n",
    "X_test = df2[df2['city']=='bal']\n",
    "y_train = response[df2['city']=='det']\n",
    "y_test = response[df2['city']=='bal']"
   ]
  },
  {
   "cell_type": "raw",
   "metadata": {},
   "source": [
    "loss = regression_cityholdouts(df, cities)"
   ]
  },
  {
   "cell_type": "raw",
   "metadata": {},
   "source": [
    "loss_plot = loss.loc[:,('diurnal','r2')].unstack(level=0).T\n",
    "with plt.style.context('fivethirtyeight'):\n",
    "    base = plt.gca().transData\n",
    "    rot = mpl.transforms.Affine2D().rotate_deg(90)\n",
    "    plt.plot(loss_plot, label='city')#, 'o', transform = rot + base)\n",
    "#     plt.yticks([0,1,2],('gbm','mlr','null'))\n",
    "    plt.legend(loc='upper right')\n",
    "#     plt.xlim(-0.5, 1.5) #np.min(loss_plot.all()), np.max(loss_plot.all()))\n",
    "plt.show()"
   ]
  },
  {
   "cell_type": "raw",
   "metadata": {},
   "source": [
    "loss_plot = loss.loc[:,('diurnal','r2')].unstack(level=0).T\n",
    "col_names = {i:i[-3:] for i in loss_plot.columns.values}\n",
    "loss_plot = loss_plot.rename(index=str,columns = col_names)\n",
    "print(loss_plot)\n",
    "exercise = sns.load_dataset(\"exercise\")\n",
    "print(exercise)\n",
    "g = sns.factorplot(x=\"time\", y=\"pulse\", hue=\"kind\", data=exercise)"
   ]
  },
  {
   "cell_type": "raw",
   "metadata": {},
   "source": [
    "print(loss)\n",
    "loss_plot = loss.loc[:,['diurnal','mae']].unstack(level=0)\n",
    "print(loss_plot)\n",
    "loss_plot = loss_plot.unstack(level=0)\n",
    "loss_plot = pd.DataFrame(loss_plot).T\n",
    "print(loss_plot)\n",
    "type(loss_plot)"
   ]
  },
  {
   "cell_type": "raw",
   "metadata": {
    "scrolled": false
   },
   "source": [
    "loss_plot = loss.unstack(level=0)\n",
    "loss_plot = loss_plot.unstack(level=0)\n",
    "loss_plot = pd.DataFrame(loss_plot).T\n",
    "loss_plot = pd.melt(loss_plot)\n",
    "# loss_plot['city'] = loss_plot['city'].str[-3:]\n",
    "# print(loss_plot)\n",
    "five_thirty_eight = [\n",
    "    \"#30a2da\",\n",
    "    \"#fc4f30\",\n",
    "    \"#e5ae38\",\n",
    "    \"#6d904f\",\n",
    "    \"#8b8b8b\",\n",
    "]\n",
    "# sns.set_palette(five_thirty_eight)\n",
    "g = sns.factorplot(orient=\"h\", y=\"model\", x=\"value\", hue=\"city\", linestyles='', markers=['v','o','^','x'],  col = \"loss\", row = \"time\", data=loss_plot, sharex = 'col', order=['null','mlr','gbm'], aspect=2, scale=1.5)\n",
    "for i, ax in enumerate(g.axes.flat): # set every-other axis for testing purposes\n",
    "        if i==2:\n",
    "            ax.set_xlim(0,12)\n",
    "            ax.set_xlabel('MAE')\n",
    "        elif i==3:\n",
    "            ax.set_xlim(-1,1)\n",
    "            ax.set_xlabel('Out-of-bag R$^2$')"
   ]
  },
  {
   "cell_type": "raw",
   "metadata": {},
   "source": [
    "rownames = pd.MultiIndex(levels = [['null'], ['bal']], labels=[[0],[0]], names = ['model','city'])\n",
    "header = pd.MultiIndex.from_product([['diurnal','nocturnal'],\n",
    "                                     ['mae','r2']],\n",
    "                                    names=['time','loss'])\n",
    "loss = pd.DataFrame([[1,2,3,4]], columns = header, index = rownames)\n",
    "loss"
   ]
  },
  {
   "cell_type": "markdown",
   "metadata": {},
   "source": [
    "# Intra-city holdout"
   ]
  },
  {
   "cell_type": "raw",
   "metadata": {},
   "source": [
    "import random\n",
    "sim_num = 5\n",
    "loss = pd.DataFrame()\n",
    "for city in cities[0:1]:\n",
    "    df_city = df[df['city']==city] #df_city = df.loc[df['city']==city]\n",
    "    predict_quant = 'lst'\n",
    "    df_city, response = prepare_lst_prediction(df_city)\n",
    "    # conduct the holdout\n",
    "    for i in range(sim_num):\n",
    "        # divide into test and training sets\n",
    "        random.seed(RANDOM_SEED)\n",
    "        X_train, X_test, y_train, y_test = train_test_split(df_city, response, test_size=0.2)\n",
    "        # scale explanatory variables\n",
    "        X_train, X_test = scale_X(X_train, X_test)\n",
    "        # response values\n",
    "        y = define_response_lst(y_train, y_test)\n",
    "        # import code\n",
    "        # code.interact(local=locals())\n",
    "        # apply the null model\n",
    "        loss_null = regression_null(y, city, predict_quant)\n",
    "        # now the GradientBoostingRegressor\n",
    "        loss_gbm = regression_gradientboost(X_train, y, X_test, city, predict_quant)\n",
    "        # finally, multiple linear regression\n",
    "        loss_mlr = regression_linear(X_train, y, X_test, city, predict_quant)\n",
    "        # join the loss functions\n",
    "        loss_city = pd.concat([loss_null, loss_mlr, loss_gbm])\n",
    "        # print(loss_city)\n",
    "        loss = loss.append(loss_city)"
   ]
  },
  {
   "cell_type": "raw",
   "metadata": {},
   "source": [
    "loss"
   ]
  },
  {
   "cell_type": "raw",
   "metadata": {},
   "source": [
    "loss_full = pd.read_csv('data/regression/holdout_results.csv', index_col=[0,1],header=[0,1], skipinitialspace=True,keep_default_na=False )\n",
    "loss_full.head()"
   ]
  },
  {
   "cell_type": "raw",
   "metadata": {},
   "source": [
    "loss_test = loss_full.copy()\n",
    "error_type = 'r2'\n",
    "loss_test['hold_id'] = np.tile(np.repeat(range(100),3),4)\n",
    "loss_test.set_index('hold_id',append=True,inplace=True)\n",
    "\n",
    "loss_test.reorder_levels(['hold_id', 'model', 'city'])\n",
    "loss_test = loss_test.xs(error_type, axis=1, level=1)\n",
    "loss_test = loss_test.unstack(level=0)\n",
    "loss_test = loss_test.unstack(level=0)\n",
    "# loss_test = pd.DataFrame(loss_test).T\n",
    "loss_test = pd.melt(loss_test)\n",
    "loss_test[error_type] = loss_test['value']\n",
    "# print(loss_test)\n",
    "five_thirty_eight = [\n",
    "    \"#30a2da\",\n",
    "    \"#fc4f30\",\n",
    "    \"#e5ae38\",\n",
    "    \"#6d904f\",\n",
    "    \"#8b8b8b\",\n",
    "]\n",
    "my_pal = sns.color_palette(five_thirty_eight)\n",
    "sns.set_palette(my_pal)\n",
    "my_pal = {'null':\"#30a2da\", 'mlr':\"#fc4f30\", 'gbm':\"#e5ae38\"}\n",
    "g = sns.factorplot(orient=\"h\", x=error_type, y='model', row=\"city\",col=\"time\", data=loss_test, kind=\"box\", order=['null','mlr','gbm'])\n",
    "for i, ax in enumerate(g.axes.flat):\n",
    "    i = 0\n",
    "    for patch in ax.artists:\n",
    "        patch.set_facecolor(five_thirty_eight[i])\n",
    "        i += 1"
   ]
  },
  {
   "cell_type": "raw",
   "metadata": {},
   "source": [
    "import numpy as np\n",
    "import pandas as pd\n",
    "import seaborn as sns\n",
    "import matplotlib.pyplot as plt\n",
    "sns.set(style=\"white\", rc={\"axes.facecolor\": (0, 0, 0, 0)})\n",
    "\n",
    "# Create the data\n",
    "rs = np.random.RandomState(1979)\n",
    "x = rs.randn(500)\n",
    "g = np.tile(list(\"ABCDEFGHIJ\"), 50)\n",
    "df = pd.DataFrame(dict(x=x, g=g))\n",
    "m = df.g.map(ord)\n",
    "df[\"x\"] += m\n",
    "# print(df)\n",
    "\n",
    "df = loss_test.copy()\n",
    "df = df.loc[df['city']=='bal']\n",
    "df = df.loc[df['time']=='diurnal']\n",
    "df['g'] = df['model']\n",
    "df['x'] = df['value']\n",
    "df = df.loc[:,['g','x']]\n",
    "df = df.iloc[::-1]\n",
    "\n",
    "print(df)\n",
    "\n",
    "# Initialize the FacetGrid object\n",
    "pal = sns.cubehelix_palette(10, rot=-.25, light=.7)\n",
    "g = sns.FacetGrid(df, row=\"g\", hue=\"g\", aspect=15, size=.5, palette=pal)\n",
    "\n",
    "# Draw the densities in a few steps\n",
    "g.map(sns.kdeplot, \"x\", clip_on=False, shade=True, alpha=1, lw=1.5, bw=.2)\n",
    "g.map(sns.kdeplot, \"x\", clip_on=False, color=\"w\", lw=2, bw=.2)\n",
    "g.map(plt.axhline, y=0, lw=2, clip_on=False)\n",
    "\n",
    "# Define and use a simple function to label the plot in axes coordinates\n",
    "def label(x, color, label):\n",
    "    ax = plt.gca()\n",
    "    ax.text(0, .2, label, fontweight=\"bold\", color=color, \n",
    "            ha=\"left\", va=\"center\", transform=ax.transAxes)\n",
    "\n",
    "g.map(label, \"x\")\n",
    "\n",
    "# Set the subplots to overlap\n",
    "g.fig.subplots_adjust(hspace=-.25)\n",
    "\n",
    "# Remove axes details that don't play will with overlap\n",
    "g.set_titles(\"\")\n",
    "g.set(yticks=[])\n",
    "g.despine(bottom=True, left=True)"
   ]
  },
  {
   "cell_type": "raw",
   "metadata": {},
   "source": [
    "X_train, X_test, y_train, y_test = train_test_split(df, df['x'], test_size=0)\n",
    "print(len(X_train), len(X_test), len(y_train), len(y_test))"
   ]
  },
  {
   "cell_type": "markdown",
   "metadata": {},
   "source": [
    "# Feature Selection"
   ]
  },
  {
   "cell_type": "markdown",
   "metadata": {},
   "source": [
    "How long does it take to run a single regressor with all of the variables?"
   ]
  },
  {
   "cell_type": "code",
   "execution_count": 6,
   "metadata": {},
   "outputs": [
    {
     "name": "stdout",
     "output_type": "stream",
     "text": [
      "['alb_mean_max' 'alb_mean_max_sl' 'alb_mean_mean' 'alb_mean_mean_sl'\n",
      " 'alb_mean_min' 'alb_mean_min_sl' 'area' 'city' 'elev_max' 'elev_max_sl'\n",
      " 'elev_mean' 'elev_mean_sl' 'elev_min' 'elev_min_sl' 'imp_max'\n",
      " 'imp_max_sl' 'imp_mean' 'imp_mean_sl' 'imp_min' 'imp_min_sl']\n",
      "3.9279065132141113\n"
     ]
    }
   ],
   "source": [
    "import time\n",
    "\n",
    "start = time.time()\n",
    "###\n",
    "# train the model\n",
    "###\n",
    "\n",
    "df_city = df.copy()\n",
    "# drop necessary variables\n",
    "df_city, response = prepare_lst_prediction(df_city)\n",
    "df_city = df_city.iloc[:,0:20]\n",
    "variables = df_city.columns.values\n",
    "print(variables)\n",
    "# no need to divide, but split into X and y\n",
    "X_train, X_test, y_train, y_test = train_test_split(df_city, response, test_size=0)#, random_state=RANDOM_SEED)\n",
    "# scale explanatory variables\n",
    "X_train, X_train  = scale_X(X_train, X_train)\n",
    "# response values\n",
    "y = define_response_lst(y_train, y_train)\n",
    "# fit the model\n",
    "gbm = GradientBoostingRegressor(max_depth=2, random_state=RANDOM_SEED, learning_rate=0.1, n_estimators=500, loss='ls')\n",
    "gbm.fit(X_train, y['day_train'])\n",
    "\n",
    "# time\n",
    "end = time.time()\n",
    "print(end - start)"
   ]
  },
  {
   "cell_type": "markdown",
   "metadata": {},
   "source": [
    "Given it takes ~6 seconds to fit the largest model, it would take"
   ]
  },
  {
   "cell_type": "code",
   "execution_count": 7,
   "metadata": {},
   "outputs": [
    {
     "data": {
      "text/plain": [
       "19.0"
      ]
     },
     "execution_count": 7,
     "metadata": {},
     "output_type": "execute_result"
    }
   ],
   "source": [
    "6*np.sum(range(20))/60"
   ]
  },
  {
   "cell_type": "markdown",
   "metadata": {},
   "source": [
    "50 minutes to fit all of the models.\n",
    "If I took the average MAE from 20 holdouts, that'd take < 20 hours."
   ]
  },
  {
   "cell_type": "code",
   "execution_count": 14,
   "metadata": {},
   "outputs": [
    {
     "name": "stdout",
     "output_type": "stream",
     "text": [
      "2592.4926719665527\n"
     ]
    }
   ],
   "source": [
    "import time\n",
    "\n",
    "start = time.time()\n",
    "city = 'bal'\n",
    "period = 'night'\n",
    "holdout_num = 25\n",
    "'''\n",
    "forward selection of variables based on OOB mae\n",
    "'''\n",
    "df_set, response = prepare_lst_prediction(df)\n",
    "variables = df_set.columns.values\n",
    "variables = [var for var in variables if var not in ['city','area']]\n",
    "# subset for the city\n",
    "if city != 'all':\n",
    "    df_city = df[df['city']==city]\n",
    "else:\n",
    "    df_city = df.copy()\n",
    "# drop necessary variables\n",
    "df_city, response = prepare_lst_prediction(df_city)\n",
    "# add variables based on which provide the best improvement to lowering MAE\n",
    "vars_inc = []\n",
    "vars_mae = []\n",
    "while len(vars_inc)<len(variables):\n",
    "    # loop through the Variables\n",
    "    variables = [var for var in variables if var not in vars_inc]\n",
    "    variable_mae = pd.DataFrame(index=variables, columns=['mae'])\n",
    "    for var in variables:\n",
    "        df_var = df_city.loc[:,[var,'city'] + vars_inc].copy()\n",
    "        # initialize error measures\n",
    "        mae = []\n",
    "        for h in range(holdout_num):\n",
    "            # no need to divide, but split into X and y\n",
    "            X_train, X_test, y_train, y_test = train_test_split(df_var, response, test_size=0.2)#, random_state=RANDOM_SEED)\n",
    "            # scale explanatory variables\n",
    "            X_train, X_test  = scale_X(X_train, X_test)\n",
    "            # response values\n",
    "            y = define_response_lst(y_train, y_test)\n",
    "            # fit the model\n",
    "            gbm_day = GradientBoostingRegressor(max_depth=2, random_state=RANDOM_SEED, learning_rate=0.1, n_estimators=500, loss='ls')\n",
    "            gbm_day.fit(X_train, y['{}_train'.format(period)])\n",
    "            # predict the model\n",
    "            predict_day = gbm_day.predict(X_test)\n",
    "            # calculate MAE\n",
    "            mae.append(np.mean(abs(predict_day - y['{}_test'.format(period)])))\n",
    "        # calculate the average\n",
    "        variable_mae.loc[var,'mae'] = np.mean(mae)\n",
    "    # variable to include\n",
    "    vars_inc.append(variables[variable_mae.loc[:,'mae'].values.argmin()])\n",
    "    vars_mae.append(variable_mae.loc[:,'mae'].values.min())\n",
    "# add to dict\n",
    "var_forwardstep = pd.DataFrame({\n",
    "    'variables':vars_inc,\n",
    "    'mae':vars_mae\n",
    "})\n",
    "return(var_forwardstep)\n",
    "# time\n",
    "end = time.time()\n",
    "print(end - start)\n"
   ]
  },
  {
   "cell_type": "code",
   "execution_count": 25,
   "metadata": {},
   "outputs": [
    {
     "name": "stdout",
     "output_type": "stream",
     "text": [
      "0.3448011188646132 14\n"
     ]
    }
   ],
   "source": [
    "vars_mae\n",
    "val, idx = min((val, idx) for (idx, val) in enumerate(vars_mae))\n",
    "print(val,idx)"
   ]
  },
  {
   "cell_type": "code",
   "execution_count": 32,
   "metadata": {},
   "outputs": [
    {
     "data": {
      "text/html": [
       "<div>\n",
       "<style scoped>\n",
       "    .dataframe tbody tr th:only-of-type {\n",
       "        vertical-align: middle;\n",
       "    }\n",
       "\n",
       "    .dataframe tbody tr th {\n",
       "        vertical-align: top;\n",
       "    }\n",
       "\n",
       "    .dataframe thead th {\n",
       "        text-align: right;\n",
       "    }\n",
       "</style>\n",
       "<table border=\"1\" class=\"dataframe\">\n",
       "  <thead>\n",
       "    <tr style=\"text-align: right;\">\n",
       "      <th></th>\n",
       "      <th>mae</th>\n",
       "      <th>variables</th>\n",
       "    </tr>\n",
       "  </thead>\n",
       "  <tbody>\n",
       "    <tr>\n",
       "      <th>0</th>\n",
       "      <td>0.719181</td>\n",
       "      <td>tree_mean</td>\n",
       "    </tr>\n",
       "    <tr>\n",
       "      <th>1</th>\n",
       "      <td>0.484759</td>\n",
       "      <td>ndvi_mean_mean</td>\n",
       "    </tr>\n",
       "    <tr>\n",
       "      <th>2</th>\n",
       "      <td>0.408469</td>\n",
       "      <td>elev_min_sl</td>\n",
       "    </tr>\n",
       "    <tr>\n",
       "      <th>3</th>\n",
       "      <td>0.362859</td>\n",
       "      <td>tree_max</td>\n",
       "    </tr>\n",
       "    <tr>\n",
       "      <th>4</th>\n",
       "      <td>0.354653</td>\n",
       "      <td>ndvi_mean_mean_sl</td>\n",
       "    </tr>\n",
       "    <tr>\n",
       "      <th>5</th>\n",
       "      <td>0.349833</td>\n",
       "      <td>tree_max_sl</td>\n",
       "    </tr>\n",
       "    <tr>\n",
       "      <th>6</th>\n",
       "      <td>0.349807</td>\n",
       "      <td>elev_mean_sl</td>\n",
       "    </tr>\n",
       "    <tr>\n",
       "      <th>7</th>\n",
       "      <td>0.354210</td>\n",
       "      <td>elev_mean</td>\n",
       "    </tr>\n",
       "    <tr>\n",
       "      <th>8</th>\n",
       "      <td>0.348039</td>\n",
       "      <td>tree_min</td>\n",
       "    </tr>\n",
       "    <tr>\n",
       "      <th>9</th>\n",
       "      <td>0.354165</td>\n",
       "      <td>imp_max</td>\n",
       "    </tr>\n",
       "    <tr>\n",
       "      <th>10</th>\n",
       "      <td>0.352239</td>\n",
       "      <td>ndvi_mean_min_sl</td>\n",
       "    </tr>\n",
       "    <tr>\n",
       "      <th>11</th>\n",
       "      <td>0.348199</td>\n",
       "      <td>imp_min</td>\n",
       "    </tr>\n",
       "    <tr>\n",
       "      <th>12</th>\n",
       "      <td>0.353452</td>\n",
       "      <td>imp_mean_sl</td>\n",
       "    </tr>\n",
       "    <tr>\n",
       "      <th>13</th>\n",
       "      <td>0.351400</td>\n",
       "      <td>imp_mean</td>\n",
       "    </tr>\n",
       "    <tr>\n",
       "      <th>14</th>\n",
       "      <td>0.344801</td>\n",
       "      <td>elev_min</td>\n",
       "    </tr>\n",
       "    <tr>\n",
       "      <th>15</th>\n",
       "      <td>0.360701</td>\n",
       "      <td>tree_min_sl</td>\n",
       "    </tr>\n",
       "    <tr>\n",
       "      <th>16</th>\n",
       "      <td>0.354529</td>\n",
       "      <td>alb_mean_max_sl</td>\n",
       "    </tr>\n",
       "    <tr>\n",
       "      <th>17</th>\n",
       "      <td>0.353918</td>\n",
       "      <td>tree_mean_sl</td>\n",
       "    </tr>\n",
       "    <tr>\n",
       "      <th>18</th>\n",
       "      <td>0.356889</td>\n",
       "      <td>imp_min_sl</td>\n",
       "    </tr>\n",
       "    <tr>\n",
       "      <th>19</th>\n",
       "      <td>0.354029</td>\n",
       "      <td>elev_max</td>\n",
       "    </tr>\n",
       "    <tr>\n",
       "      <th>20</th>\n",
       "      <td>0.360114</td>\n",
       "      <td>alb_mean_max</td>\n",
       "    </tr>\n",
       "    <tr>\n",
       "      <th>21</th>\n",
       "      <td>0.370050</td>\n",
       "      <td>ndvi_mean_max_sl</td>\n",
       "    </tr>\n",
       "    <tr>\n",
       "      <th>22</th>\n",
       "      <td>0.364212</td>\n",
       "      <td>ndvi_mean_min</td>\n",
       "    </tr>\n",
       "    <tr>\n",
       "      <th>23</th>\n",
       "      <td>0.372118</td>\n",
       "      <td>ndvi_mean_max</td>\n",
       "    </tr>\n",
       "    <tr>\n",
       "      <th>24</th>\n",
       "      <td>0.365276</td>\n",
       "      <td>imp_max_sl</td>\n",
       "    </tr>\n",
       "    <tr>\n",
       "      <th>25</th>\n",
       "      <td>0.375958</td>\n",
       "      <td>elev_max_sl</td>\n",
       "    </tr>\n",
       "    <tr>\n",
       "      <th>26</th>\n",
       "      <td>0.381497</td>\n",
       "      <td>alb_mean_min_sl</td>\n",
       "    </tr>\n",
       "    <tr>\n",
       "      <th>27</th>\n",
       "      <td>0.395891</td>\n",
       "      <td>alb_mean_min</td>\n",
       "    </tr>\n",
       "    <tr>\n",
       "      <th>28</th>\n",
       "      <td>0.392195</td>\n",
       "      <td>alb_mean_mean_sl</td>\n",
       "    </tr>\n",
       "    <tr>\n",
       "      <th>29</th>\n",
       "      <td>0.414541</td>\n",
       "      <td>alb_mean_mean</td>\n",
       "    </tr>\n",
       "  </tbody>\n",
       "</table>\n",
       "</div>"
      ],
      "text/plain": [
       "         mae          variables\n",
       "0   0.719181          tree_mean\n",
       "1   0.484759     ndvi_mean_mean\n",
       "2   0.408469        elev_min_sl\n",
       "3   0.362859           tree_max\n",
       "4   0.354653  ndvi_mean_mean_sl\n",
       "5   0.349833        tree_max_sl\n",
       "6   0.349807       elev_mean_sl\n",
       "7   0.354210          elev_mean\n",
       "8   0.348039           tree_min\n",
       "9   0.354165            imp_max\n",
       "10  0.352239   ndvi_mean_min_sl\n",
       "11  0.348199            imp_min\n",
       "12  0.353452        imp_mean_sl\n",
       "13  0.351400           imp_mean\n",
       "14  0.344801           elev_min\n",
       "15  0.360701        tree_min_sl\n",
       "16  0.354529    alb_mean_max_sl\n",
       "17  0.353918       tree_mean_sl\n",
       "18  0.356889         imp_min_sl\n",
       "19  0.354029           elev_max\n",
       "20  0.360114       alb_mean_max\n",
       "21  0.370050   ndvi_mean_max_sl\n",
       "22  0.364212      ndvi_mean_min\n",
       "23  0.372118      ndvi_mean_max\n",
       "24  0.365276         imp_max_sl\n",
       "25  0.375958        elev_max_sl\n",
       "26  0.381497    alb_mean_min_sl\n",
       "27  0.395891       alb_mean_min\n",
       "28  0.392195   alb_mean_mean_sl\n",
       "29  0.414541      alb_mean_mean"
      ]
     },
     "execution_count": 32,
     "metadata": {},
     "output_type": "execute_result"
    }
   ],
   "source": [
    "var_forwardstep = pd.DataFrame({\n",
    "    'variables':vars_inc,\n",
    "    'mae':vars_mae\n",
    "})\n",
    "var_forwardstep"
   ]
  },
  {
   "cell_type": "code",
   "execution_count": 30,
   "metadata": {},
   "outputs": [
    {
     "name": "stdout",
     "output_type": "stream",
     "text": [
      "number of vars with MAE reported: 30\n",
      "number of candidate vars: 30\n"
     ]
    }
   ],
   "source": [
    "print('number of vars with MAE reported: {}'.format(len(vars_inc)))\n",
    "# candidate variable number\n",
    "df_set, response = prepare_lst_prediction(df)\n",
    "variables = df_set.columns.values\n",
    "variables = [var for var in variables if var not in ['city','area']]\n",
    "print('number of candidate vars: {}'.format(len(variables)))"
   ]
  },
  {
   "cell_type": "code",
   "execution_count": 26,
   "metadata": {},
   "outputs": [
    {
     "data": {
      "text/plain": [
       "[<matplotlib.lines.Line2D at 0x7f9e2db37a90>]"
      ]
     },
     "execution_count": 26,
     "metadata": {},
     "output_type": "execute_result"
    },
    {
     "data": {
      "image/png": "[encoded data removed]",
      "text/plain": [
       "<Figure size 432x288 with 1 Axes>"
      ]
     },
     "metadata": {},
     "output_type": "display_data"
    }
   ],
   "source": [
    "plt.plot(vars_mae)"
   ]
  },
  {
   "cell_type": "markdown",
   "metadata": {},
   "source": [
    "The time it took for Baltimore night to evaluate all of the variables using a forward greedy algorithm with 25 holdouts, was "
   ]
  },
  {
   "cell_type": "code",
   "execution_count": 27,
   "metadata": {},
   "outputs": [
    {
     "data": {
      "text/plain": [
       "43.2"
      ]
     },
     "execution_count": 27,
     "metadata": {},
     "output_type": "execute_result"
    }
   ],
   "source": [
    "2592/60"
   ]
  },
  {
   "cell_type": "code",
   "execution_count": 35,
   "metadata": {},
   "outputs": [
    {
     "data": {
      "text/html": [
       "<div>\n",
       "<style scoped>\n",
       "    .dataframe tbody tr th:only-of-type {\n",
       "        vertical-align: middle;\n",
       "    }\n",
       "\n",
       "    .dataframe tbody tr th {\n",
       "        vertical-align: top;\n",
       "    }\n",
       "\n",
       "    .dataframe thead th {\n",
       "        text-align: right;\n",
       "    }\n",
       "</style>\n",
       "<table border=\"1\" class=\"dataframe\">\n",
       "  <thead>\n",
       "    <tr style=\"text-align: right;\">\n",
       "      <th></th>\n",
       "      <th>mae</th>\n",
       "    </tr>\n",
       "  </thead>\n",
       "  <tbody>\n",
       "    <tr>\n",
       "      <th>alb_mean_mean</th>\n",
       "      <td>0.414541</td>\n",
       "    </tr>\n",
       "  </tbody>\n",
       "</table>\n",
       "</div>"
      ],
      "text/plain": [
       "                    mae\n",
       "alb_mean_mean  0.414541"
      ]
     },
     "execution_count": 35,
     "metadata": {},
     "output_type": "execute_result"
    }
   ],
   "source": [
    "variable_mae"
   ]
  },
  {
   "cell_type": "markdown",
   "metadata": {},
   "source": []
  },
  {
   "cell_type": "raw",
   "metadata": {},
   "source": [
    "## Variable importance"
   ]
  },
  {
   "cell_type": "raw",
   "metadata": {},
   "source": [
    "reg_gbm = full_gbm_regression(df, cities)"
   ]
  },
  {
   "cell_type": "raw",
   "metadata": {},
   "source": [
    "reg_gbm['diurnal']['bal'].feature_importances_"
   ]
  },
  {
   "cell_type": "code",
   "execution_count": null,
   "metadata": {},
   "outputs": [],
   "source": [
    "list(reg_gbm['covariates'])"
   ]
  },
  {
   "cell_type": "code",
   "execution_count": null,
   "metadata": {
    "scrolled": false
   },
   "outputs": [],
   "source": [
    "cities = ['bal', 'por', 'det', 'phx']\n",
    "cities = cities.copy()\n",
    "cities.append('all')\n",
    "five_thirty_eight = [\n",
    "    \"#30a2da\",\n",
    "    \"#fc4f30\",\n",
    "    \"#e5ae38\",\n",
    "    \"#6d904f\",\n",
    "    \"#8b8b8b\",\n",
    "]\n",
    "# get the covariates - these will be the indices in the dataframe\n",
    "header = pd.MultiIndex.from_product([['nocturnal','diurnal'],cities],\n",
    "                                names=['time','city'])\n",
    "var_imp = pd.DataFrame(columns = header, index = list(reg_gbm['covariates']))\n",
    "print(var_imp.shape)\n",
    "for city in cities:\n",
    "    for time in ['diurnal','nocturnal']:\n",
    "        var_imp.loc[:,(time, city)] = reg_gbm[time][city].feature_importances_\n",
    "var_imp.loc[:,('nocturnal','mean')] = np.mean(var_imp.loc[:,'nocturnal'].drop('all',axis=1),axis=1)\n",
    "var_imp = var_imp.sort_values(by=('nocturnal','mean'),ascending=False)\n",
    "# make the nocturnal values negative\n",
    "nocturnal = var_imp.loc[:,'nocturnal'].copy()\n",
    "nocturnal = nocturnal.drop('mean',axis=1)\n",
    "nocturnal['covariate'] = nocturnal.index\n",
    "nocturnal = pd.melt(nocturnal,id_vars=['covariate'])\n",
    "nocturnal.loc[:,'value'] = nocturnal['value'] * -1\n",
    "# diurnal\n",
    "diurnal = var_imp.loc[:,'diurnal'].copy()\n",
    "diurnal.loc[:,'covariate'] = diurnal.index\n",
    "diurnal = pd.melt(diurnal,id_vars=['covariate'])\n",
    "# plot\n",
    "ax = sns.barplot(orient=\"h\", y='covariate', x='value',hue='city', data=nocturnal, palette = five_thirty_eight)\n",
    "\n",
    "ax = sns.barplot(orient=\"h\", y='covariate', x='value',hue='city', data=diurnal, palette = five_thirty_eight)\n",
    "handles, labels = ax.get_legend_handles_labels()\n",
    "plt.xlabel('Variable Importance')\n",
    "plt.ylabel('Variables')\n",
    "l = plt.legend(handles[0:4], labels[0:4], loc='lower right')\n",
    "# mpl.rcParams['figure.figsize'] = 10, 20\n",
    "# zero line\n",
    "plt.axvline(x=0, color='k', linestyle='-', linewidth = 2)\n",
    "plt.xlim(-0.2,0.2)\n",
    "\n",
    "plt.show()\n",
    "# plt.clf()\n"
   ]
  },
  {
   "cell_type": "code",
   "execution_count": 36,
   "metadata": {},
   "outputs": [
    {
     "name": "stdout",
     "output_type": "stream",
     "text": [
      "bal\n",
      "por\n",
      "det\n",
      "phx\n",
      "all\n"
     ]
    }
   ],
   "source": [
    "cities = ['bal', 'por', 'det', 'phx']\n",
    "for city in cities+['all']:\n",
    "    print(city)"
   ]
  },
  {
   "cell_type": "code",
   "execution_count": 37,
   "metadata": {},
   "outputs": [
    {
     "name": "stdout",
     "output_type": "stream",
     "text": [
      "2018-04-25 00:07:39: completed all, night\n"
     ]
    }
   ],
   "source": [
    "from datetime import datetime\n",
    "print('{}: completed {}, {}'.format(datetime.now().strftime('%Y-%m-%d %H:%M:%S'), city, period))"
   ]
  },
  {
   "cell_type": "code",
   "execution_count": 39,
   "metadata": {},
   "outputs": [],
   "source": [
    "import pickle\n",
    "with open('data/variable_selection.pkl', 'wb') as f:\n",
    "    pickle.dump(var_forwardstep, f, pickle.HIGHEST_PROTOCOL)"
   ]
  }
 ],
 "metadata": {
  "kernelspec": {
   "display_name": "Python 3",
   "language": "python",
   "name": "python3"
  },
  "language_info": {
   "codemirror_mode": {
    "name": "ipython",
    "version": 3
   },
   "file_extension": ".py",
   "mimetype": "text/x-python",
   "name": "python",
   "nbconvert_exporter": "python",
   "pygments_lexer": "ipython3",
   "version": "3.5.2"
  }
 },
 "nbformat": 4,
 "nbformat_minor": 2
}
