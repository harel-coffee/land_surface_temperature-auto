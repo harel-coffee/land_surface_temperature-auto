{
 "cells": [
  {
   "cell_type": "code",
   "execution_count": 1,
   "metadata": {
    "scrolled": true
   },
   "outputs": [],
   "source": [
    "import os \n",
    "dir_primary = 'F:/UrbanDataProject/land_surface_temperature/code/analysis'\n",
    "# os.chdir('/home/tml/research/land_surface_temperature/code/analysis')\n",
    "os.chdir(dir_primary)\n",
    "from analysis import *\n",
    "%matplotlib inline\n",
    "import matplotlib as mpl\n",
    "import matplotlib.pyplot as plt\n",
    "import os\n",
    "import glob\n",
    "code_dir = os.getcwd()\n",
    "os.chdir('../..')\n"
   ]
  },
  {
   "cell_type": "markdown",
   "metadata": {},
   "source": [
    "# Import data"
   ]
  },
  {
   "cell_type": "code",
   "execution_count": 2,
   "metadata": {
    "scrolled": true
   },
   "outputs": [],
   "source": [
    "cities = ['bal', 'por', 'det', 'phx']\n",
    "# import data\n",
    "grid_size = 500\n",
    "df = import_data(grid_size)"
   ]
  },
  {
   "cell_type": "markdown",
   "metadata": {},
   "source": [
    "# Bootstrap Partial Dependence"
   ]
  },
  {
   "cell_type": "code",
   "execution_count": 3,
   "metadata": {},
   "outputs": [],
   "source": [
    "boot_num = 50"
   ]
  },
  {
   "cell_type": "code",
   "execution_count": 4,
   "metadata": {
    "scrolled": false
   },
   "outputs": [],
   "source": [
    "bootstrap_main(df, grid_size, boot_num, do_par = True)"
   ]
  },
  {
   "cell_type": "markdown",
   "metadata": {},
   "source": [
    "the plot for this is in `partial_dependence_R`"
   ]
  },
  {
   "cell_type": "markdown",
   "metadata": {},
   "source": [
    "# 2D Partial Dependence"
   ]
  },
  {
   "cell_type": "markdown",
   "metadata": {},
   "source": [
    "Fit a GBRF to the entire dataset and plot the 2D partial dependence for selected features"
   ]
  },
  {
   "cell_type": "code",
   "execution_count": 7,
   "metadata": {},
   "outputs": [
    {
     "data": {
      "text/plain": [
       "GradientBoostingRegressor(alpha=0.9, criterion='friedman_mse', init=None,\n",
       "             learning_rate=0.1, loss='ls', max_depth=2, max_features=None,\n",
       "             max_leaf_nodes=None, min_impurity_decrease=0.0,\n",
       "             min_impurity_split=None, min_samples_leaf=1,\n",
       "             min_samples_split=2, min_weight_fraction_leaf=0.0,\n",
       "             n_estimators=500, presort='auto', random_state=3201,\n",
       "             subsample=1.0, verbose=0, warm_start=False)"
      ]
     },
     "execution_count": 7,
     "metadata": {},
     "output_type": "execute_result"
    }
   ],
   "source": [
    "# fit the gbrf\n",
    "df_x, target = prepare_lst_prediction(df)\n",
    "df_x  = subset_regression_data(df_x, df_x)[0]\n",
    "gbm_night = GradientBoostingRegressor(max_depth=2, random_state=RANDOM_SEED, learning_rate=0.1, n_estimators=500, loss='ls')\n",
    "gbm_night.fit(df_x, target['lst_night_mean'])\n",
    "gbm_day = GradientBoostingRegressor(max_depth=2, random_state=RANDOM_SEED, learning_rate=0.1, n_estimators=500, loss='ls')\n",
    "gbm_day.fit(df_x, target['lst_day_mean'])"
   ]
  },
  {
   "cell_type": "code",
   "execution_count": 41,
   "metadata": {},
   "outputs": [
    {
     "data": {
      "text/plain": [
       "<a list of 6 text.Text objects>"
      ]
     },
     "execution_count": 41,
     "metadata": {},
     "output_type": "execute_result"
    },
    {
     "data": {
      "image/png": "[encoded data removed]",
      "text/plain": [
       "<matplotlib.figure.Figure at 0x6717d43d30>"
      ]
     },
     "metadata": {},
     "output_type": "display_data"
    }
   ],
   "source": [
    "# two way partial dependence\n",
    "\n",
    "# plot setup (surely this can be a function)\n",
    "five_thirty_eight = [\n",
    "    \"#30a2da\",\n",
    "    \"#fc4f30\",\n",
    "    \"#e5ae38\",\n",
    "    \"#6d904f\",\n",
    "    \"#8b8b8b\",]\n",
    "sns.set_palette(five_thirty_eight)\n",
    "mpl.rcParams.update({'font.size': 12})\n",
    "# init subplots (left is nocturnal, right is diurnal)\n",
    "fig, axes = plt.subplots(1, 2, figsize = (15,10), sharey=True, sharex=True)\n",
    "# loop through the top n variables by nocturnal importance\n",
    "feature = 0\n",
    "features = ['']\n",
    "levels_set = False\n",
    "left_right = 0\n",
    "# for period in ['nocturnal', 'diurnal']:\n",
    "#     gbm = reg_gbm[period][city]\n",
    "    # calculate the partial dependence\n",
    "pdp, ax = partial_dependence(gbm_night, (5, 1), X = df_x,\n",
    "                        grid_resolution = 50)\n",
    "# get data\n",
    "XX, YY = np.meshgrid(ax[0], ax[1])\n",
    "Z = pdp[0].reshape(list(map(np.size, ax))).T\n",
    "# add the line to the plot\n",
    "CS = axes[left_right].contour(XX,YY,Z)#, levels=np.arange(-8,4,1))\n",
    "axes[left_right].clabel(CS, inline=True, fontsize=12)\n",
    "# title and axis labels\n",
    "# axes[feature, left_right].set_title('{} {}'.format(period,city))\n",
    "#     plt.xlabel('Canopy cover')\n",
    "#     plt.ylabel('NDVI')"
   ]
  }
 ],
 "metadata": {
  "kernelspec": {
   "display_name": "Python 3",
   "language": "python",
   "name": "python3"
  },
  "language_info": {
   "codemirror_mode": {
    "name": "ipython",
    "version": 3
   },
   "file_extension": ".py",
   "mimetype": "text/x-python",
   "name": "python",
   "nbconvert_exporter": "python",
   "pygments_lexer": "ipython3",
   "version": "3.6.4"
  }
 },
 "nbformat": 4,
 "nbformat_minor": 2
}
