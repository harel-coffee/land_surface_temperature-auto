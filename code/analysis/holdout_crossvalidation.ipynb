{
 "cells": [
  {
   "cell_type": "code",
   "execution_count": 1,
   "metadata": {
    "scrolled": true
   },
   "outputs": [],
   "source": [
    "import os \n",
    "dir_primary = 'F:/UrbanDataProject/land_surface_temperature/code/analysis'\n",
    "# os.chdir('/home/tml/research/land_surface_temperature/code/analysis')\n",
    "os.chdir(dir_primary)\n",
    "from analysis import *\n",
    "%matplotlib inline\n",
    "import matplotlib as mpl\n",
    "import matplotlib.pyplot as plt\n",
    "import os\n",
    "import glob\n",
    "code_dir = os.getcwd()\n",
    "os.chdir('../..')\n"
   ]
  },
  {
   "cell_type": "markdown",
   "metadata": {},
   "source": [
    "# Import data"
   ]
  },
  {
   "cell_type": "code",
   "execution_count": 2,
   "metadata": {
    "scrolled": true
   },
   "outputs": [],
   "source": [
    "cities = ['bal', 'por', 'det', 'phx']\n",
    "# import data\n",
    "grid_size = 100\n",
    "df = import_data(grid_size)"
   ]
  },
  {
   "cell_type": "markdown",
   "metadata": {},
   "source": [
    "# Cross-validation over all data"
   ]
  },
  {
   "cell_type": "code",
   "execution_count": 3,
   "metadata": {},
   "outputs": [],
   "source": [
    "# number of holdouts\n",
    "sim_num = 100"
   ]
  },
  {
   "cell_type": "code",
   "execution_count": 4,
   "metadata": {
    "scrolled": true
   },
   "outputs": [],
   "source": [
    "# only run if you need to recalculate the bootstrapped validation results\n",
    "# regressions(df, cities, sim_num, grid_size, do_par = False)"
   ]
  },
  {
   "cell_type": "code",
   "execution_count": 5,
   "metadata": {},
   "outputs": [],
   "source": [
    "# import data\n",
    "path = 'data/regression/holdout_{}'.format(grid_size)                     # use your path\n",
    "all_files = glob.glob(os.path.join(path, \"*.csv\"))     # advisable to use os.path.join as this makes concatenation OS independent\n",
    "\n",
    "df_from_each_file = (pd.read_csv(f) for f in all_files)\n",
    "loss = pd.concat(df_from_each_file, ignore_index=True)"
   ]
  },
  {
   "cell_type": "code",
   "execution_count": 6,
   "metadata": {},
   "outputs": [],
   "source": [
    "loss = loss.dropna()"
   ]
  },
  {
   "cell_type": "code",
   "execution_count": 7,
   "metadata": {},
   "outputs": [],
   "source": [
    "loss = loss.replace({'diurnal':'day\\n(mean)','diurnalmax':'day\\n(max)','nocturnal':'night\\n(mean)','nocturnalmax':'night\\n(max)'})"
   ]
  },
  {
   "cell_type": "code",
   "execution_count": 8,
   "metadata": {},
   "outputs": [
    {
     "data": {
      "text/plain": [
       "<Figure size 504.567x311.84 with 0 Axes>"
      ]
     },
     "metadata": {},
     "output_type": "display_data"
    },
    {
     "name": "stderr",
     "output_type": "stream",
     "text": [
      "f:\\urbandataproject\\land_surface_temperature\\venv\\lib\\site-packages\\matplotlib\\figure.py:2369: UserWarning: This figure includes Axes that are not compatible with tight_layout, so results might be incorrect.\n",
      "  warnings.warn(\"This figure includes Axes that are not compatible \"\n"
     ]
    },
    {
     "data": {
      "image/png": "[encoded data removed]",
      "text/plain": [
       "<Figure size 1009.13x311.84 with 2 Axes>"
      ]
     },
     "metadata": {},
     "output_type": "display_data"
    },
    {
     "name": "stdout",
     "output_type": "stream",
     "text": [
      "model                        average       cnn       gam      gbrt      mars  \\\n",
      "error_metric time_of_day                                                       \n",
      "mae          day\\n(max)     3.591428  1.120450  1.641819  1.350920  1.605424   \n",
      "             day\\n(mean)    4.033679  1.013967  1.586763  1.330204  1.598767   \n",
      "             night\\n(max)   1.931800  0.776506  0.957607  0.778825  0.919222   \n",
      "             night\\n(mean)  2.237787  0.740599  0.871729  0.764629  0.875119   \n",
      "r2           day\\n(max)    -0.001150  0.900376  0.814969  0.873499  0.824116   \n",
      "             day\\n(mean)   -0.001162  0.927989  0.853082  0.893940  0.850328   \n",
      "             night\\n(max)  -0.001059  0.847288  0.789429  0.864182  0.803530   \n",
      "             night\\n(mean) -0.001101  0.883099  0.853283  0.887044  0.851231   \n",
      "\n",
      "model                            mlr        rf  \n",
      "error_metric time_of_day                        \n",
      "mae          day\\n(max)     1.944791  1.057552  \n",
      "             day\\n(mean)    1.953725  1.029455  \n",
      "             night\\n(max)   1.111141  0.636299  \n",
      "             night\\n(mean)  1.071100  0.633914  \n",
      "r2           day\\n(max)     0.731345  0.914494  \n",
      "             day\\n(mean)    0.777238  0.928995  \n",
      "             night\\n(max)   0.691339  0.904935  \n",
      "             night\\n(mean)  0.766820  0.917220  \n"
     ]
    },
    {
     "data": {
      "text/plain": [
       "<Figure size 432x288 with 0 Axes>"
      ]
     },
     "metadata": {},
     "output_type": "display_data"
    }
   ],
   "source": [
    "plot_holdouts(loss, grid_size)"
   ]
  }
 ],
 "metadata": {
  "kernelspec": {
   "display_name": "Python 3",
   "language": "python",
   "name": "python3"
  },
  "language_info": {
   "codemirror_mode": {
    "name": "ipython",
    "version": 3
   },
   "file_extension": ".py",
   "mimetype": "text/x-python",
   "name": "python",
   "nbconvert_exporter": "python",
   "pygments_lexer": "ipython3",
   "version": "3.6.4"
  }
 },
 "nbformat": 4,
 "nbformat_minor": 2
}
